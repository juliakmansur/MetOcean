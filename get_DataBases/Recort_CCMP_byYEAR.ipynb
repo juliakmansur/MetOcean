{
 "cells": [
  {
   "cell_type": "code",
   "execution_count": null,
   "metadata": {},
   "outputs": [],
   "source": [
    "import xarray as xr\n",
    "import glob\n",
    "import os\n",
    "\n",
    "def process_and_save_data(year_range, input_path, output_path):\n",
    "    for year in year_range:\n",
    "        # Get a list of all .nc files available in different folders\n",
    "        filenames = glob.glob(os.path.join(input_path, f\"CCMP_y{year}*.nc\"))\n",
    "\n",
    "        # Open and merge the datasets\n",
    "        dsmerged = xr.open_mfdataset(filenames)\n",
    "        \n",
    "        # Select a subset of the data\n",
    "        ds = dsmerged.sel(lats=slice(302, 342), lons=slice(1200, 1308)).drop_vars('nobs')\n",
    "\n",
    "        # Fix duplicate dates issue caused by mfdataset\n",
    "        _, index = ds['time'].to_index().unique(return_index=True)\n",
    "        ds = ds.isel(time=index)\n",
    "\n",
    "        # Save the processed dataset\n",
    "        ds.to_netcdf(os.path.join(output_path, f'CCMP_y{year}.nc'))\n",
    "\n",
    "        # Remove input files\n",
    "        for file_path in filenames:\n",
    "            try:\n",
    "                os.remove(file_path)\n",
    "            except Exception as e:\n",
    "                print(f\"Error removing file {file_path}: {e}\")\n",
    "\n",
    "if __name__ == \"__main__\":\n",
    "    # Range de anos a ser processado\n",
    "    target_years = range(2016, 2017)\n",
    "\n",
    "    # Diretórios de entrada e saída\n",
    "    input_directory = 'd:/00_Masters/99_testes/'\n",
    "    output_directory = 'd:/00_Masters/01_Dados/CCMP/'\n",
    "\n",
    "    # Chamar a função para processamento e salvamento de dados\n",
    "    process_and_save_data(target_years, input_directory, output_directory)\n"
   ]
  }
 ],
 "metadata": {
  "kernelspec": {
   "display_name": "Python 3.9.13 ('base')",
   "language": "python",
   "name": "python3"
  },
  "language_info": {
   "codemirror_mode": {
    "name": "ipython",
    "version": 3
   },
   "file_extension": ".py",
   "mimetype": "text/x-python",
   "name": "python",
   "nbconvert_exporter": "python",
   "pygments_lexer": "ipython3",
   "version": "3.9.13"
  },
  "orig_nbformat": 4,
  "vscode": {
   "interpreter": {
    "hash": "ad2bdc8ecc057115af97d19610ffacc2b4e99fae6737bb82f5d7fb13d2f2c186"
   }
  }
 },
 "nbformat": 4,
 "nbformat_minor": 2
}

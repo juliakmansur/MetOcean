{
 "cells": [
  {
   "cell_type": "markdown",
   "metadata": {},
   "source": [
    "# Wind Rose"
   ]
  },
  {
   "cell_type": "markdown",
   "metadata": {},
   "source": [
    "### Packages"
   ]
  },
  {
   "cell_type": "code",
   "execution_count": 16,
   "metadata": {},
   "outputs": [],
   "source": [
    "import xarray as xr\n",
    "import numpy as np\n",
    "import pandas as pd\n",
    "\n",
    "import sys\n",
    "import os\n",
    "import warnings\n",
    "warnings.filterwarnings(\"ignore\")\n",
    "\n",
    "sys.path.append(os.path.abspath(\"d:/Users/julia/Desktop/Academia/01_Mestrado/Work/Utils\"))\n",
    "from HistDir import *"
   ]
  },
  {
   "cell_type": "markdown",
   "metadata": {},
   "source": [
    "### Metar Database"
   ]
  },
  {
   "cell_type": "markdown",
   "metadata": {},
   "source": [
    "#### Importing Data"
   ]
  },
  {
   "cell_type": "code",
   "execution_count": 17,
   "metadata": {},
   "outputs": [],
   "source": [
    "Metar = pd.DataFrame({'label':['SBNT','SBJP','SBRF','SBMO','SBAR','SBSV'],\n",
    "                      'Latitude':[-5.91,-7.15,-8.13,-9.51,-10.98,-12.91],\n",
    "                      'Longitude': [-35.25,-34.97,-34.92,-35.79,-37.07,-38.33]})\n",
    "\n",
    "i = [0,1,2,3,4,5]\n",
    "Names = ['SBNT','SBJP','SBRF','SBMO','SBAR','SBSV']\n",
    "\n",
    "df_list =[]\n",
    "for n in range(len(Names)):\n",
    "    df = pd.read_csv(\"D:/Users/julia/Desktop/AcaDemia/01_MestraDo/Dados/METAR/\"+ Names[n] +\".csv\",sep=',',\n",
    "    index_col='times', parse_dates=True)\n",
    "    df_list.append(df)"
   ]
  },
  {
   "cell_type": "markdown",
   "metadata": {},
   "source": [
    "#### Hist_Dir"
   ]
  },
  {
   "cell_type": "markdown",
   "metadata": {},
   "source": [
    "##### Total"
   ]
  },
  {
   "cell_type": "code",
   "execution_count": 18,
   "metadata": {},
   "outputs": [
    {
     "name": "stdout",
     "output_type": "stream",
     "text": [
      "SBNT\n",
      "Done\n",
      "SBJP\n",
      "Done\n",
      "SBRF\n",
      "Done\n",
      "SBMO\n",
      "Done\n",
      "SBAR\n",
      "Done\n",
      "SBSV\n",
      "Done\n"
     ]
    }
   ],
   "source": [
    "for i,n in enumerate(Names):\n",
    "    dft = df_list[i] # Getting one station from the dataframe\n",
    "    print(n)\n",
    "\n",
    "    vel = dft.speed\n",
    "    dire = dft.direction\n",
    "    outputname = 'd:/Users/julia/Desktop/Academia/01_Mestrado/Resultados/METAR/Figuras/His_Dir/Serie_Total/Norte/'+n\n",
    "\n",
    "    HistDir(P=vel,D=dire,Pmax=12,MaxProb=50,\n",
    "            arqname=outputname,\n",
    "            par='vento',interpolado=False,conv_oc=True)"
   ]
  },
  {
   "cell_type": "markdown",
   "metadata": {},
   "source": [
    "##### Sazonal - DJF MAM JJA SON"
   ]
  },
  {
   "cell_type": "code",
   "execution_count": 19,
   "metadata": {},
   "outputs": [
    {
     "name": "stdout",
     "output_type": "stream",
     "text": [
      "SBNT\n",
      "Done\n",
      "Done\n",
      "Done\n",
      "Done\n",
      "SBJP\n",
      "Done\n",
      "Done\n",
      "Done\n",
      "Done\n",
      "SBRF\n",
      "Done\n",
      "Done\n",
      "Done\n",
      "Done\n",
      "SBMO\n",
      "Done\n",
      "Done\n",
      "Done\n",
      "Done\n",
      "SBAR\n",
      "Done\n",
      "Done\n",
      "Done\n",
      "Done\n",
      "SBSV\n",
      "Done\n",
      "Done\n",
      "Done\n",
      "Done\n"
     ]
    }
   ],
   "source": [
    "for i,n in enumerate(Names):\n",
    "    dft = df_list[i] # Getting one station from the dataframe\n",
    "    print(n)\n",
    "    \n",
    "    ##### DIVISÃO PARA ESTUDOS SAZONAIS #####\n",
    "\n",
    "    season = ((dft.index.month % 12 + 3) // 3).map({1:'DJF', 2: 'MAM', 3:'JJA', 4:'SON'})\n",
    "    \n",
    "    for i,s in enumerate(season.unique()):\n",
    "        # print(s)\n",
    "        vel_s = dft[season == s].speed\n",
    "        dire_s = dft[season == s].direction\n",
    "\n",
    "        outputname_s = 'd:/Users/julia/Desktop/Academia/01_Mestrado/Resultados/METAR/Figuras/His_Dir/Serie_Total/Norte/Metar_S1/'+n+'_'+s\n",
    "\n",
    "        HistDir(P=vel_s,D=dire_s,Pmax=12,MaxProb=60,\n",
    "                arqname=outputname_s,\n",
    "                par='vento',interpolado=False,conv_oc=True)"
   ]
  },
  {
   "cell_type": "markdown",
   "metadata": {},
   "source": [
    "##### Sazonal - JFM AMJ JAS OND"
   ]
  },
  {
   "cell_type": "code",
   "execution_count": 20,
   "metadata": {},
   "outputs": [
    {
     "name": "stdout",
     "output_type": "stream",
     "text": [
      "SBNT\n",
      "Done\n",
      "Done\n",
      "Done\n",
      "Done\n",
      "SBJP\n",
      "Done\n",
      "Done\n",
      "Done\n",
      "Done\n",
      "SBRF\n",
      "Done\n",
      "Done\n",
      "Done\n",
      "Done\n",
      "SBMO\n",
      "Done\n",
      "Done\n",
      "Done\n",
      "Done\n",
      "SBAR\n",
      "Done\n",
      "Done\n",
      "Done\n",
      "Done\n",
      "SBSV\n",
      "Done\n",
      "Done\n",
      "Done\n",
      "Done\n"
     ]
    }
   ],
   "source": [
    "\n",
    "for i,n in enumerate(Names):\n",
    "    dft = df_list[-i] # Getting one station from the dataframe\n",
    "    print(n)\n",
    "\n",
    "    ##### DIVISÃO PARA ESTUDOS SAZONAIS #####\n",
    "    dft_summer = dft[dft.index.month.isin([1,2,3])]\n",
    "    dft_autumn = dft[dft.index.month.isin([4,5,6])]\n",
    "    dft_winter = dft[dft.index.month.isin([7,8,9])]\n",
    "    dft_spring = dft[dft.index.month.isin([10,11,12])]\n",
    "\n",
    "    season_names = ['Sum','Aut','Win','Spr']\n",
    "\n",
    "    for d,s in zip([dft_summer, dft_autumn, dft_winter, dft_spring],season_names):\n",
    "\n",
    "        vel_s = d.speed\n",
    "        dire_s = d.direction\n",
    "\n",
    "        outputname_s = 'd:/Users/julia/Desktop/Academia/01_Mestrado/Resultados/METAR/Figuras/His_Dir/Serie_Total/Norte/Metar_S2/'+n+'_'+s\n",
    "\n",
    "        HistDir(P=vel_s,D=dire_s,Pmax=12,MaxProb=60,\n",
    "                arqname=outputname_s,\n",
    "                par='vento',interpolado=False,conv_oc=True)"
   ]
  },
  {
   "cell_type": "markdown",
   "metadata": {},
   "source": [
    "### ERA5 Database"
   ]
  },
  {
   "cell_type": "markdown",
   "metadata": {},
   "source": [
    "#### Import and Setting the Data"
   ]
  },
  {
   "cell_type": "code",
   "execution_count": 21,
   "metadata": {},
   "outputs": [],
   "source": [
    "dsmerged = xr.open_dataset('D:/Users/julia//Desktop/Academia/01_Mestrado/Dados/ERA5.nc',)"
   ]
  },
  {
   "cell_type": "code",
   "execution_count": 22,
   "metadata": {},
   "outputs": [],
   "source": [
    "era_SBNT = dsmerged.sel(latitude=-5.8, longitude=-35.1, method='nearest') # 2º point-5.8 -34.85\n",
    "u_SBNT = era_SBNT['u10']\n",
    "v_SBNT = era_SBNT['v10']\n",
    "\n",
    "era_SBJP = dsmerged.sel(latitude=-7.05, longitude=-34.6, method='nearest') # 2º point-7.05 -34.35\n",
    "u_SBJP = era_SBJP['u10']\n",
    "v_SBJP = era_SBJP['v10']\n",
    "\n",
    "era_SBRF = dsmerged.sel(latitude=-8.05, longitude=-34.6, method='nearest') # 2º point-8.05 -34.35\n",
    "u_SBRF = era_SBRF['u10']\n",
    "v_SBRF = era_SBRF['v10']\n",
    "\n",
    "era_SBMO = dsmerged.sel(latitude=-9.55, longitude=-35.35, method='nearest') # 2º point-9.55 -35.1\n",
    "u_SBMO = era_SBMO['u10']\n",
    "v_SBMO = era_SBMO['v10']\n",
    "\n",
    "era_SBAR = dsmerged.sel(latitude=-11.05, longitude=-36.85, method='nearest') # 2º point -11.05 -36.6\n",
    "u_SBAR = era_SBAR['u10']\n",
    "v_SBAR = era_SBAR['v10']\n",
    "\n",
    "era_SBSV = dsmerged.sel(latitude=-13.05, longitude=-38.35, method='nearest') # 2º point -12.8 -37.85/-38.1\n",
    "u_SBSV = era_SBSV['u10']\n",
    "v_SBSV = era_SBSV['v10']"
   ]
  },
  {
   "cell_type": "code",
   "execution_count": 23,
   "metadata": {},
   "outputs": [],
   "source": [
    "era = [era_SBNT,era_SBJP,era_SBRF,era_SBMO,era_SBAR,era_SBSV]\n",
    "names = ['SBNT','SBJP','SBRF','SBMO','SBAR','SBSV']     "
   ]
  },
  {
   "cell_type": "markdown",
   "metadata": {},
   "source": [
    "#### Hist_Dir"
   ]
  },
  {
   "cell_type": "markdown",
   "metadata": {},
   "source": [
    "##### Total"
   ]
  },
  {
   "cell_type": "code",
   "execution_count": 24,
   "metadata": {},
   "outputs": [
    {
     "name": "stdout",
     "output_type": "stream",
     "text": [
      "SBNT\n",
      "Done\n",
      "SBJP\n",
      "Done\n",
      "SBRF\n",
      "Done\n",
      "SBMO\n",
      "Done\n",
      "SBAR\n",
      "Done\n",
      "SBSV\n",
      "Done\n"
     ]
    }
   ],
   "source": [
    "for e,n in zip(era,names):\n",
    "        print(n)\n",
    "        \n",
    "        e = e.assign(vel=lambda e: np.sqrt(e['u10']**2+e['v10']**2))\n",
    "        e = e.assign(dire=lambda e: (np.mod(180+np.rad2deg(np.arctan2(e['u10'], e['v10'])),360)))\n",
    "        # e.dire[e.dire<0] += 360\n",
    "\n",
    "        outputname = 'd:/Users/julia/Desktop/Academia/01_Mestrado/Resultados/ERA/'+n+''\n",
    "\n",
    "        HistDir(P=e.vel,D=e.dire,Pmax=12,MaxProb=50,\n",
    "                arqname=outputname,\n",
    "                par='vento',interpolado=False,conv_oc=True)"
   ]
  },
  {
   "cell_type": "markdown",
   "metadata": {},
   "source": [
    "##### Sazonal - DJF MAM JJA SON"
   ]
  },
  {
   "cell_type": "code",
   "execution_count": 25,
   "metadata": {},
   "outputs": [
    {
     "name": "stdout",
     "output_type": "stream",
     "text": [
      "SBNT\n",
      "Done\n",
      "Done\n",
      "Done\n",
      "Done\n",
      "SBJP\n",
      "Done\n",
      "Done\n",
      "Done\n",
      "Done\n",
      "SBRF\n",
      "Done\n",
      "Done\n",
      "Done\n",
      "Done\n",
      "SBMO\n",
      "Done\n",
      "Done\n",
      "Done\n",
      "Done\n",
      "SBAR\n",
      "Done\n",
      "Done\n",
      "Done\n",
      "Done\n",
      "SBSV\n",
      "Done\n",
      "Done\n",
      "Done\n",
      "Done\n"
     ]
    }
   ],
   "source": [
    "Season = [[12,1,2],[3,4,5],[6,7,8],[9,10,11]]\n",
    "Season_names = ['SUMMER','AUTUMN','WINTER','SPRING']\n",
    "\n",
    "for e,n in zip(era,names):\n",
    "    print(n)\n",
    "\n",
    "    e = e.assign(vel=lambda e: np.sqrt(e['u10']**2+e['v10']**2))\n",
    "    e = e.assign(dire=lambda e: (np.mod(180+np.rad2deg(np.arctan2(e['u10'], e['v10'])),360)))\n",
    "\n",
    "    for s,sn in zip(Season,Season_names):\n",
    "\n",
    "        vel_s =  e['vel'].sel(time=e.time.dt.month.isin(s))\n",
    "        dire_s = e['dire'].sel(time=e.time.dt.month.isin(s))\n",
    "\n",
    "        outputname_s = 'd:/Users/julia/Desktop/Academia/01_Mestrado/Resultados/ERA/ERA_S1/'+n+'_'+sn\n",
    "\n",
    "        HistDir(P=vel_s,D=dire_s,Pmax=12,MaxProb=60,\n",
    "                arqname=outputname_s,\n",
    "                par='vento',interpolado=False,conv_oc=True)"
   ]
  },
  {
   "cell_type": "markdown",
   "metadata": {},
   "source": [
    "##### Sazonal - JFM AMJ JAS OND"
   ]
  },
  {
   "cell_type": "code",
   "execution_count": 26,
   "metadata": {},
   "outputs": [
    {
     "name": "stdout",
     "output_type": "stream",
     "text": [
      "SBNT\n",
      "Done\n",
      "Done\n",
      "Done\n",
      "Done\n",
      "SBJP\n",
      "Done\n",
      "Done\n",
      "Done\n",
      "Done\n",
      "SBRF\n",
      "Done\n",
      "Done\n",
      "Done\n",
      "Done\n",
      "SBMO\n",
      "Done\n",
      "Done\n",
      "Done\n",
      "Done\n",
      "SBAR\n",
      "Done\n",
      "Done\n",
      "Done\n",
      "Done\n",
      "SBSV\n",
      "Done\n",
      "Done\n",
      "Done\n",
      "Done\n"
     ]
    }
   ],
   "source": [
    "Season = [[1,2,3],[4,5,6],[4,5,6],[10,11,12]]\n",
    "Season_names = ['SUMMER','AUTUMN','WINTER','SPRING']\n",
    "\n",
    "for e,n in zip(era,names):\n",
    "    print(n)\n",
    "\n",
    "    e = e.assign(vel=lambda e: np.sqrt(e['u10']**2+e['v10']**2))\n",
    "    e = e.assign(dire=lambda e: (np.mod(180+np.rad2deg(np.arctan2(e['u10'], e['v10'])),360)))\n",
    "\n",
    "    for s,sn in zip(Season,Season_names):\n",
    "\n",
    "        vel_s =  e['vel'].sel(time=e.time.dt.month.isin(s))\n",
    "        dire_s = e['dire'].sel(time=e.time.dt.month.isin(s))\n",
    "\n",
    "        outputname_s = 'd:/Users/julia/Desktop/Academia/01_Mestrado/Resultados/ERA/ERA_S2/'+n+'_'+sn\n",
    "\n",
    "        HistDir(P=vel_s,D=dire_s,Pmax=12,MaxProb=60,\n",
    "                arqname=outputname_s,\n",
    "                par='vento',interpolado=False,conv_oc=True)"
   ]
  }
 ],
 "metadata": {
  "kernelspec": {
   "display_name": "Python 3.9.7 ('base')",
   "language": "python",
   "name": "python3"
  },
  "language_info": {
   "codemirror_mode": {
    "name": "ipython",
    "version": 3
   },
   "file_extension": ".py",
   "mimetype": "text/x-python",
   "name": "python",
   "nbconvert_exporter": "python",
   "pygments_lexer": "ipython3",
   "version": "3.9.7"
  },
  "orig_nbformat": 4,
  "vscode": {
   "interpreter": {
    "hash": "ad2bdc8ecc057115af97d19610ffacc2b4e99fae6737bb82f5d7fb13d2f2c186"
   }
  }
 },
 "nbformat": 4,
 "nbformat_minor": 2
}

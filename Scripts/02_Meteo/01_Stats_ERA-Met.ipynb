{
 "cells": [
  {
   "cell_type": "code",
   "execution_count": null,
   "metadata": {},
   "outputs": [],
   "source": []
  },
  {
   "cell_type": "markdown",
   "metadata": {},
   "source": [
    "### Packaged"
   ]
  },
  {
   "cell_type": "code",
   "execution_count": 31,
   "metadata": {},
   "outputs": [],
   "source": [
    "import xarray as xr\n",
    "import numpy as np\n",
    "import pandas as pd\n",
    "\n",
    "from scipy import stats\n",
    "\n",
    "import sys\n",
    "import os\n",
    "import warnings\n",
    "warnings.filterwarnings(\"ignore\")\n",
    "\n",
    "sys.path.append(os.path.abspath(\"d:/Users/julia/Desktop/Academia/01_Mestrado/Work/Utils\"))\n",
    "from uv2veldire import *"
   ]
  },
  {
   "cell_type": "code",
   "execution_count": 6,
   "metadata": {},
   "outputs": [],
   "source": [
    "def rmse(predictions, targets):\n",
    "    return np.sqrt(((predictions - targets) ** 2).mean())"
   ]
  },
  {
   "cell_type": "code",
   "execution_count": 53,
   "metadata": {},
   "outputs": [],
   "source": [
    "def compute_histogram(variable, bin_max, bin_min, dbin, pdf=False):\n",
    "    \"\"\" Computes 1D histogram or probability density for a given variable.\n",
    "        \n",
    "    Keyword arguments:\n",
    "    variable -- 1D array.\n",
    "    bin_max -- maximum value for bins\n",
    "    bin_min -- minimum value for bins\n",
    "    dbin -- bin size\n",
    "    pdf -- (default False)\n",
    "    \n",
    "    Returns:\n",
    "    bins -- histogram bins\n",
    "    counts -- either counts or probability density\n",
    "        \n",
    "    \"\"\"\n",
    "    bins = np.arange(bin_min, bin_max, dbin)\n",
    "    count = []\n",
    "    for i in range(len(bins)):\n",
    "        ind = (variable>bins[i] - dbin/2) & (variable<=bins[i]+dbin/2)\n",
    "        count.append(ind.sum())\n",
    "    count = np.array(count)\n",
    "    if pdf:\n",
    "        norm_hist = count/count.sum()/dbin\n",
    "        assert np.allclose(norm_hist.sum()*dbin, 1.0), \"PDF doesn't sum to 1\"\n",
    "    \n",
    "        return bins, norm_hist\n",
    "    else:\n",
    "        return bins, count"
   ]
  },
  {
   "cell_type": "markdown",
   "metadata": {},
   "source": [
    "### Metar Database"
   ]
  },
  {
   "cell_type": "markdown",
   "metadata": {},
   "source": [
    "#### Importing Data"
   ]
  },
  {
   "cell_type": "code",
   "execution_count": 2,
   "metadata": {},
   "outputs": [],
   "source": [
    "Metar = pd.DataFrame({'label':['SBNT','SBJP','SBRF','SBMO','SBAR','SBSV'],\n",
    "                      'Latitude':[-5.91,-7.15,-8.13,-9.51,-10.98,-12.91],\n",
    "                      'Longitude': [-35.25,-34.97,-34.92,-35.79,-37.07,-38.33]})\n",
    "\n",
    "i = [0,1,2,3,4,5]\n",
    "Names = ['SBNT','SBJP','SBRF','SBMO','SBAR','SBSV']\n",
    "\n",
    "df_list =[]\n",
    "for n in range(len(Names)):\n",
    "    df = pd.read_csv(\"D:/Users/julia/Desktop/AcaDemia/01_MestraDo/Dados/METAR/\"+ Names[n] +\".csv\",sep=',',\n",
    "    index_col='times', parse_dates=True)\n",
    "    df_list.append(df)"
   ]
  },
  {
   "cell_type": "markdown",
   "metadata": {},
   "source": [
    "### ERA5 Database"
   ]
  },
  {
   "cell_type": "markdown",
   "metadata": {},
   "source": [
    "#### Import and Setting the Data"
   ]
  },
  {
   "cell_type": "code",
   "execution_count": 3,
   "metadata": {},
   "outputs": [],
   "source": [
    "dsmerged = xr.open_dataset('D:/Users/julia//Desktop/Academia/01_Mestrado/Dados/ERA5.nc',)"
   ]
  },
  {
   "cell_type": "code",
   "execution_count": 4,
   "metadata": {},
   "outputs": [],
   "source": [
    "era_SBNT = dsmerged.sel(latitude=-5.8, longitude=-35.1, method='nearest') # 2º point-5.8 -34.85\n",
    "u_SBNT = era_SBNT['u10']\n",
    "v_SBNT = era_SBNT['v10']\n",
    "\n",
    "era_SBJP = dsmerged.sel(latitude=-7.05, longitude=-34.6, method='nearest') # 2º point-7.05 -34.35\n",
    "u_SBJP = era_SBJP['u10']\n",
    "v_SBJP = era_SBJP['v10']\n",
    "\n",
    "era_SBRF = dsmerged.sel(latitude=-8.05, longitude=-34.6, method='nearest') # 2º point-8.05 -34.35\n",
    "u_SBRF = era_SBRF['u10']\n",
    "v_SBRF = era_SBRF['v10']\n",
    "\n",
    "era_SBMO = dsmerged.sel(latitude=-9.55, longitude=-35.35, method='nearest') # 2º point-9.55 -35.1\n",
    "u_SBMO = era_SBMO['u10']\n",
    "v_SBMO = era_SBMO['v10']\n",
    "\n",
    "era_SBAR = dsmerged.sel(latitude=-11.05, longitude=-36.85, method='nearest') # 2º point -11.05 -36.6\n",
    "u_SBAR = era_SBAR['u10']\n",
    "v_SBAR = era_SBAR['v10']\n",
    "\n",
    "era_SBSV = dsmerged.sel(latitude=-13.05, longitude=-38.35, method='nearest') # 2º point -12.8 -37.85/-38.1\n",
    "u_SBSV = era_SBSV['u10']\n",
    "v_SBSV = era_SBSV['v10']"
   ]
  },
  {
   "cell_type": "code",
   "execution_count": 5,
   "metadata": {},
   "outputs": [],
   "source": [
    "era = [era_SBNT,era_SBJP,era_SBRF,era_SBMO,era_SBAR,era_SBSV]\n",
    "names = ['SBNT','SBJP','SBRF','SBMO','SBAR','SBSV']     "
   ]
  },
  {
   "cell_type": "markdown",
   "metadata": {},
   "source": [
    "# Teste 1"
   ]
  },
  {
   "cell_type": "code",
   "execution_count": null,
   "metadata": {},
   "outputs": [],
   "source": [
    "era_SBSV['vel'],era_SBSV['dire'] = uv2veldire(u_SBSV,v_SBSV,corr=True)\n",
    "e1 = era_SBSV.drop(['latitude','longitude'])\n",
    "e1 = e1.to_dataframe()\n",
    "e1 = e1['2002-06':]"
   ]
  },
  {
   "cell_type": "code",
   "execution_count": 72,
   "metadata": {},
   "outputs": [],
   "source": [
    "m1 = df_list[-1]\n",
    "\n",
    "## Removing outliers\n",
    "m1.dropna(inplace=True)\n",
    "m1 = m1[(np.abs(stats.zscore(m1)) < 2).all(axis=1)]\n",
    "\n",
    "## Creating a regular Time\n",
    "                    ### Intervalo Fixo de tempo\n",
    "resample_index = pd.date_range(start='2002-06-01 00:00',end='2019-12-31 23:00', freq='H') \n",
    "dummy_frame = pd.DataFrame(np.NaN, index=resample_index, columns=m1.columns)\n",
    "df=dummy_frame.combine_first(m1[:'2019-12-31 23:00'])\n",
    "                    ### Intervalo da Serie\n",
    "# resample_index = pd.date_range(start=dft.index[0],end=dft.index[-1], freq='1H')\n",
    "# dummy_frame = pd.DataFrame(np.NaN, index=resample_index, columns=dft.columns)\n",
    "# df=dummy_frame.combine_first(dft)\n",
    "\n",
    "\n",
    "## Interpolating\n",
    "df.interpolate(method='linear', limit=12, limit_direction='both', inplace=True)\n"
   ]
  },
  {
   "cell_type": "code",
   "execution_count": 63,
   "metadata": {},
   "outputs": [],
   "source": [
    "df2=dummy_frame.combine_first(e1[:'2019-12-31 23:00'])\n",
    "df2.interpolate(method='linear', limit=12, limit_direction='both', inplace=True)\n"
   ]
  },
  {
   "cell_type": "code",
   "execution_count": 71,
   "metadata": {},
   "outputs": [
    {
     "data": {
      "text/html": [
       "<div>\n",
       "<style scoped>\n",
       "    .dataframe tbody tr th:only-of-type {\n",
       "        vertical-align: middle;\n",
       "    }\n",
       "\n",
       "    .dataframe tbody tr th {\n",
       "        vertical-align: top;\n",
       "    }\n",
       "\n",
       "    .dataframe thead th {\n",
       "        text-align: right;\n",
       "    }\n",
       "</style>\n",
       "<table border=\"1\" class=\"dataframe\">\n",
       "  <thead>\n",
       "    <tr style=\"text-align: right;\">\n",
       "      <th></th>\n",
       "      <th>speed</th>\n",
       "      <th>direction</th>\n",
       "      <th>temperature</th>\n",
       "      <th>dewpoint</th>\n",
       "      <th>pressure</th>\n",
       "    </tr>\n",
       "    <tr>\n",
       "      <th>times</th>\n",
       "      <th></th>\n",
       "      <th></th>\n",
       "      <th></th>\n",
       "      <th></th>\n",
       "      <th></th>\n",
       "    </tr>\n",
       "  </thead>\n",
       "  <tbody>\n",
       "    <tr>\n",
       "      <th>2003-01-01 15:00:00</th>\n",
       "      <td>5.144440</td>\n",
       "      <td>60.0</td>\n",
       "      <td>30.0</td>\n",
       "      <td>24.0</td>\n",
       "      <td>1015.0</td>\n",
       "    </tr>\n",
       "    <tr>\n",
       "      <th>2003-01-01 17:00:00</th>\n",
       "      <td>5.144440</td>\n",
       "      <td>40.0</td>\n",
       "      <td>30.0</td>\n",
       "      <td>24.0</td>\n",
       "      <td>1013.0</td>\n",
       "    </tr>\n",
       "    <tr>\n",
       "      <th>2003-01-02 11:00:00</th>\n",
       "      <td>5.144440</td>\n",
       "      <td>40.0</td>\n",
       "      <td>27.0</td>\n",
       "      <td>23.0</td>\n",
       "      <td>1015.0</td>\n",
       "    </tr>\n",
       "    <tr>\n",
       "      <th>2003-01-03 02:00:00</th>\n",
       "      <td>1.028888</td>\n",
       "      <td>60.0</td>\n",
       "      <td>25.0</td>\n",
       "      <td>22.0</td>\n",
       "      <td>1013.0</td>\n",
       "    </tr>\n",
       "    <tr>\n",
       "      <th>2003-01-03 05:00:00</th>\n",
       "      <td>4.115552</td>\n",
       "      <td>60.0</td>\n",
       "      <td>24.0</td>\n",
       "      <td>23.0</td>\n",
       "      <td>1012.0</td>\n",
       "    </tr>\n",
       "    <tr>\n",
       "      <th>...</th>\n",
       "      <td>...</td>\n",
       "      <td>...</td>\n",
       "      <td>...</td>\n",
       "      <td>...</td>\n",
       "      <td>...</td>\n",
       "    </tr>\n",
       "    <tr>\n",
       "      <th>2021-01-25 19:00:00</th>\n",
       "      <td>5.144440</td>\n",
       "      <td>100.0</td>\n",
       "      <td>29.0</td>\n",
       "      <td>22.0</td>\n",
       "      <td>1012.0</td>\n",
       "    </tr>\n",
       "    <tr>\n",
       "      <th>2021-01-25 20:00:00</th>\n",
       "      <td>4.629996</td>\n",
       "      <td>100.0</td>\n",
       "      <td>29.0</td>\n",
       "      <td>22.0</td>\n",
       "      <td>1012.0</td>\n",
       "    </tr>\n",
       "    <tr>\n",
       "      <th>2021-01-25 21:00:00</th>\n",
       "      <td>3.601108</td>\n",
       "      <td>90.0</td>\n",
       "      <td>28.0</td>\n",
       "      <td>22.0</td>\n",
       "      <td>1012.0</td>\n",
       "    </tr>\n",
       "    <tr>\n",
       "      <th>2021-01-25 22:00:00</th>\n",
       "      <td>1.543332</td>\n",
       "      <td>140.0</td>\n",
       "      <td>26.0</td>\n",
       "      <td>22.0</td>\n",
       "      <td>1012.0</td>\n",
       "    </tr>\n",
       "    <tr>\n",
       "      <th>2021-01-25 23:00:00</th>\n",
       "      <td>4.115552</td>\n",
       "      <td>100.0</td>\n",
       "      <td>27.0</td>\n",
       "      <td>23.0</td>\n",
       "      <td>1013.0</td>\n",
       "    </tr>\n",
       "  </tbody>\n",
       "</table>\n",
       "<p>55301 rows × 5 columns</p>\n",
       "</div>"
      ],
      "text/plain": [
       "                        speed  direction  temperature  dewpoint  pressure\n",
       "times                                                                    \n",
       "2003-01-01 15:00:00  5.144440       60.0         30.0      24.0    1015.0\n",
       "2003-01-01 17:00:00  5.144440       40.0         30.0      24.0    1013.0\n",
       "2003-01-02 11:00:00  5.144440       40.0         27.0      23.0    1015.0\n",
       "2003-01-03 02:00:00  1.028888       60.0         25.0      22.0    1013.0\n",
       "2003-01-03 05:00:00  4.115552       60.0         24.0      23.0    1012.0\n",
       "...                       ...        ...          ...       ...       ...\n",
       "2021-01-25 19:00:00  5.144440      100.0         29.0      22.0    1012.0\n",
       "2021-01-25 20:00:00  4.629996      100.0         29.0      22.0    1012.0\n",
       "2021-01-25 21:00:00  3.601108       90.0         28.0      22.0    1012.0\n",
       "2021-01-25 22:00:00  1.543332      140.0         26.0      22.0    1012.0\n",
       "2021-01-25 23:00:00  4.115552      100.0         27.0      23.0    1013.0\n",
       "\n",
       "[55301 rows x 5 columns]"
      ]
     },
     "execution_count": 71,
     "metadata": {},
     "output_type": "execute_result"
    }
   ],
   "source": [
    "m1.drop_duplicates()"
   ]
  },
  {
   "cell_type": "code",
   "execution_count": 52,
   "metadata": {},
   "outputs": [],
   "source": [
    "mean_sst = []\n",
    "std_sst = []\n",
    "mean_sub = []\n",
    "std_sub = []\n",
    "\n",
    "coef = []\n",
    "\n",
    "for i,j in zip(merc_s,mur_s):\n",
    "    m,s = np.mean(j), np.std(j)\n",
    "    n, d = np.mean(i), np.std(i)\n",
    "\n",
    "    mean_sst.append(m[0])\n",
    "    std_sst.append(s[0])\n",
    "    mean_sub.append(n[0])\n",
    "    std_sub.append(d[0])\n",
    "    coef.append(np.round(np.corrcoef(j.analysed_sst,i.thetao)[1][0],4))\n",
    "\n",
    "stat = pd.DataFrame({'mean_MUR' : mean_sst, 'std_MUR' : std_sst,'mean_Merc' : mean_sub,'std_Merc' : std_sub, 'r2' : coef}, columns=['mean_MUR','std_MUR', 'mean_Merc','std_Merc','r2'],index=st)\n",
    "stat"
   ]
  },
  {
   "cell_type": "code",
   "execution_count": 57,
   "metadata": {},
   "outputs": [
    {
     "ename": "ValueError",
     "evalue": "all the input array dimensions for the concatenation axis must match exactly, but along dimension 1, the array at index 0 has size 154152 and the array at index 1 has size 154662",
     "output_type": "error",
     "traceback": [
      "\u001b[1;31m---------------------------------------------------------------------------\u001b[0m",
      "\u001b[1;31mValueError\u001b[0m                                Traceback (most recent call last)",
      "\u001b[1;32m~\\AppData\\Local\\Temp/ipykernel_3532/1185801568.py\u001b[0m in \u001b[0;36m<module>\u001b[1;34m\u001b[0m\n\u001b[0;32m      1\u001b[0m \u001b[0mrmse\u001b[0m\u001b[1;33m(\u001b[0m\u001b[0me1\u001b[0m\u001b[1;33m.\u001b[0m\u001b[0mdire\u001b[0m\u001b[1;33m,\u001b[0m\u001b[0mdf\u001b[0m\u001b[1;33m.\u001b[0m\u001b[0mdirection\u001b[0m\u001b[1;33m)\u001b[0m\u001b[1;33m\u001b[0m\u001b[1;33m\u001b[0m\u001b[0m\n\u001b[1;32m----> 2\u001b[1;33m \u001b[0mnp\u001b[0m\u001b[1;33m.\u001b[0m\u001b[0mcorrcoef\u001b[0m\u001b[1;33m(\u001b[0m\u001b[0me1\u001b[0m\u001b[1;33m.\u001b[0m\u001b[0mdire\u001b[0m\u001b[1;33m,\u001b[0m\u001b[0mdf\u001b[0m\u001b[1;33m.\u001b[0m\u001b[0mdirection\u001b[0m\u001b[1;33m)\u001b[0m\u001b[1;33m\u001b[0m\u001b[1;33m\u001b[0m\u001b[0m\n\u001b[0m",
      "\u001b[1;32m<__array_function__ internals>\u001b[0m in \u001b[0;36mcorrcoef\u001b[1;34m(*args, **kwargs)\u001b[0m\n",
      "\u001b[1;32m~\\anaconda3\\lib\\site-packages\\numpy\\lib\\function_base.py\u001b[0m in \u001b[0;36mcorrcoef\u001b[1;34m(x, y, rowvar, bias, ddof, dtype)\u001b[0m\n\u001b[0;32m   2681\u001b[0m         warnings.warn('bias and ddof have no effect and are deprecated',\n\u001b[0;32m   2682\u001b[0m                       DeprecationWarning, stacklevel=3)\n\u001b[1;32m-> 2683\u001b[1;33m     \u001b[0mc\u001b[0m \u001b[1;33m=\u001b[0m \u001b[0mcov\u001b[0m\u001b[1;33m(\u001b[0m\u001b[0mx\u001b[0m\u001b[1;33m,\u001b[0m \u001b[0my\u001b[0m\u001b[1;33m,\u001b[0m \u001b[0mrowvar\u001b[0m\u001b[1;33m,\u001b[0m \u001b[0mdtype\u001b[0m\u001b[1;33m=\u001b[0m\u001b[0mdtype\u001b[0m\u001b[1;33m)\u001b[0m\u001b[1;33m\u001b[0m\u001b[1;33m\u001b[0m\u001b[0m\n\u001b[0m\u001b[0;32m   2684\u001b[0m     \u001b[1;32mtry\u001b[0m\u001b[1;33m:\u001b[0m\u001b[1;33m\u001b[0m\u001b[1;33m\u001b[0m\u001b[0m\n\u001b[0;32m   2685\u001b[0m         \u001b[0md\u001b[0m \u001b[1;33m=\u001b[0m \u001b[0mdiag\u001b[0m\u001b[1;33m(\u001b[0m\u001b[0mc\u001b[0m\u001b[1;33m)\u001b[0m\u001b[1;33m\u001b[0m\u001b[1;33m\u001b[0m\u001b[0m\n",
      "\u001b[1;32m<__array_function__ internals>\u001b[0m in \u001b[0;36mcov\u001b[1;34m(*args, **kwargs)\u001b[0m\n",
      "\u001b[1;32m~\\anaconda3\\lib\\site-packages\\numpy\\lib\\function_base.py\u001b[0m in \u001b[0;36mcov\u001b[1;34m(m, y, rowvar, bias, ddof, fweights, aweights, dtype)\u001b[0m\n\u001b[0;32m   2475\u001b[0m         \u001b[1;32mif\u001b[0m \u001b[1;32mnot\u001b[0m \u001b[0mrowvar\u001b[0m \u001b[1;32mand\u001b[0m \u001b[0my\u001b[0m\u001b[1;33m.\u001b[0m\u001b[0mshape\u001b[0m\u001b[1;33m[\u001b[0m\u001b[1;36m0\u001b[0m\u001b[1;33m]\u001b[0m \u001b[1;33m!=\u001b[0m \u001b[1;36m1\u001b[0m\u001b[1;33m:\u001b[0m\u001b[1;33m\u001b[0m\u001b[1;33m\u001b[0m\u001b[0m\n\u001b[0;32m   2476\u001b[0m             \u001b[0my\u001b[0m \u001b[1;33m=\u001b[0m \u001b[0my\u001b[0m\u001b[1;33m.\u001b[0m\u001b[0mT\u001b[0m\u001b[1;33m\u001b[0m\u001b[1;33m\u001b[0m\u001b[0m\n\u001b[1;32m-> 2477\u001b[1;33m         \u001b[0mX\u001b[0m \u001b[1;33m=\u001b[0m \u001b[0mnp\u001b[0m\u001b[1;33m.\u001b[0m\u001b[0mconcatenate\u001b[0m\u001b[1;33m(\u001b[0m\u001b[1;33m(\u001b[0m\u001b[0mX\u001b[0m\u001b[1;33m,\u001b[0m \u001b[0my\u001b[0m\u001b[1;33m)\u001b[0m\u001b[1;33m,\u001b[0m \u001b[0maxis\u001b[0m\u001b[1;33m=\u001b[0m\u001b[1;36m0\u001b[0m\u001b[1;33m)\u001b[0m\u001b[1;33m\u001b[0m\u001b[1;33m\u001b[0m\u001b[0m\n\u001b[0m\u001b[0;32m   2478\u001b[0m \u001b[1;33m\u001b[0m\u001b[0m\n\u001b[0;32m   2479\u001b[0m     \u001b[1;32mif\u001b[0m \u001b[0mddof\u001b[0m \u001b[1;32mis\u001b[0m \u001b[1;32mNone\u001b[0m\u001b[1;33m:\u001b[0m\u001b[1;33m\u001b[0m\u001b[1;33m\u001b[0m\u001b[0m\n",
      "\u001b[1;32m<__array_function__ internals>\u001b[0m in \u001b[0;36mconcatenate\u001b[1;34m(*args, **kwargs)\u001b[0m\n",
      "\u001b[1;31mValueError\u001b[0m: all the input array dimensions for the concatenation axis must match exactly, but along dimension 1, the array at index 0 has size 154152 and the array at index 1 has size 154662"
     ]
    }
   ],
   "source": [
    "rmse(e1.dire,df.direction)\n",
    "np.corrcoef(e1.dire,df.direction)\n"
   ]
  },
  {
   "cell_type": "code",
   "execution_count": 59,
   "metadata": {},
   "outputs": [
    {
     "data": {
      "text/plain": [
       "time\n",
       "2002-06-01 00:00:00    141.232147\n",
       "2002-06-01 01:00:00    146.014252\n",
       "2002-06-01 02:00:00    145.705170\n",
       "2002-06-01 03:00:00    143.241699\n",
       "2002-06-01 04:00:00    140.967346\n",
       "                          ...    \n",
       "2019-12-31 19:00:00     88.171646\n",
       "2019-12-31 20:00:00     76.455589\n",
       "2019-12-31 21:00:00     64.640846\n",
       "2019-12-31 22:00:00     64.005737\n",
       "2019-12-31 23:00:00     58.535439\n",
       "Name: dire, Length: 154152, dtype: float32"
      ]
     },
     "execution_count": 59,
     "metadata": {},
     "output_type": "execute_result"
    }
   ],
   "source": [
    "e1.dire\n"
   ]
  },
  {
   "cell_type": "code",
   "execution_count": 60,
   "metadata": {},
   "outputs": [
    {
     "data": {
      "text/plain": [
       "2002-06-01 00:00:00     NaN\n",
       "2002-06-01 01:00:00     NaN\n",
       "2002-06-01 02:00:00     NaN\n",
       "2002-06-01 03:00:00     NaN\n",
       "2002-06-01 04:00:00     NaN\n",
       "                       ... \n",
       "2019-12-31 19:00:00    45.0\n",
       "2019-12-31 20:00:00    20.0\n",
       "2019-12-31 21:00:00    70.0\n",
       "2019-12-31 22:00:00    70.0\n",
       "2019-12-31 23:00:00    70.0\n",
       "Name: direction, Length: 154662, dtype: float64"
      ]
     },
     "execution_count": 60,
     "metadata": {},
     "output_type": "execute_result"
    }
   ],
   "source": [
    "df.direction"
   ]
  },
  {
   "cell_type": "code",
   "execution_count": 50,
   "metadata": {},
   "outputs": [
    {
     "data": {
      "text/plain": [
       "DatetimeIndex([], dtype='datetime64[ns]', freq=None)"
      ]
     },
     "execution_count": 50,
     "metadata": {},
     "output_type": "execute_result"
    }
   ],
   "source": [
    "pd.date_range(start = '2002-06-01 00:00:00', end = '2019-12-31 23:00:00' ).difference(df.index)"
   ]
  },
  {
   "cell_type": "code",
   "execution_count": 40,
   "metadata": {},
   "outputs": [],
   "source": [
    "iii= e1.reindex(pd.date_range('2002-01-01 00:00:00', '2019-12-31 23:00:00')).isnull().all(1)"
   ]
  },
  {
   "cell_type": "code",
   "execution_count": 44,
   "metadata": {},
   "outputs": [
    {
     "data": {
      "text/plain": [
       "(array([], dtype=int64),)"
      ]
     },
     "execution_count": 44,
     "metadata": {},
     "output_type": "execute_result"
    }
   ],
   "source": [
    "np.where(iii)"
   ]
  },
  {
   "cell_type": "code",
   "execution_count": 49,
   "metadata": {},
   "outputs": [
    {
     "data": {
      "text/html": [
       "<div>\n",
       "<style scoped>\n",
       "    .dataframe tbody tr th:only-of-type {\n",
       "        vertical-align: middle;\n",
       "    }\n",
       "\n",
       "    .dataframe tbody tr th {\n",
       "        vertical-align: top;\n",
       "    }\n",
       "\n",
       "    .dataframe thead th {\n",
       "        text-align: right;\n",
       "    }\n",
       "</style>\n",
       "<table border=\"1\" class=\"dataframe\">\n",
       "  <thead>\n",
       "    <tr style=\"text-align: right;\">\n",
       "      <th></th>\n",
       "      <th>u10</th>\n",
       "      <th>v10</th>\n",
       "      <th>t2m</th>\n",
       "      <th>msl</th>\n",
       "      <th>sst</th>\n",
       "      <th>sp</th>\n",
       "      <th>vel</th>\n",
       "      <th>dire</th>\n",
       "    </tr>\n",
       "    <tr>\n",
       "      <th>time</th>\n",
       "      <th></th>\n",
       "      <th></th>\n",
       "      <th></th>\n",
       "      <th></th>\n",
       "      <th></th>\n",
       "      <th></th>\n",
       "      <th></th>\n",
       "      <th></th>\n",
       "    </tr>\n",
       "  </thead>\n",
       "  <tbody>\n",
       "    <tr>\n",
       "      <th>2002-06-01 00:00:00</th>\n",
       "      <td>-2.980964</td>\n",
       "      <td>3.847490</td>\n",
       "      <td>26.057373</td>\n",
       "      <td>101721.101562</td>\n",
       "      <td>300.189667</td>\n",
       "      <td>101642.8750</td>\n",
       "      <td>4.867168</td>\n",
       "      <td>141.232147</td>\n",
       "    </tr>\n",
       "    <tr>\n",
       "      <th>2002-06-01 01:00:00</th>\n",
       "      <td>-2.905829</td>\n",
       "      <td>4.477021</td>\n",
       "      <td>26.161743</td>\n",
       "      <td>101746.890625</td>\n",
       "      <td>300.189667</td>\n",
       "      <td>101668.8750</td>\n",
       "      <td>5.337374</td>\n",
       "      <td>146.014252</td>\n",
       "    </tr>\n",
       "    <tr>\n",
       "      <th>2002-06-01 02:00:00</th>\n",
       "      <td>-3.098213</td>\n",
       "      <td>4.717507</td>\n",
       "      <td>26.189575</td>\n",
       "      <td>101762.437500</td>\n",
       "      <td>300.189667</td>\n",
       "      <td>101684.1250</td>\n",
       "      <td>5.643917</td>\n",
       "      <td>145.705170</td>\n",
       "    </tr>\n",
       "    <tr>\n",
       "      <th>2002-06-01 03:00:00</th>\n",
       "      <td>-3.474721</td>\n",
       "      <td>4.825216</td>\n",
       "      <td>25.944702</td>\n",
       "      <td>101728.562500</td>\n",
       "      <td>300.189667</td>\n",
       "      <td>101650.2500</td>\n",
       "      <td>5.946125</td>\n",
       "      <td>143.241699</td>\n",
       "    </tr>\n",
       "    <tr>\n",
       "      <th>2002-06-01 04:00:00</th>\n",
       "      <td>-3.708346</td>\n",
       "      <td>4.740896</td>\n",
       "      <td>25.878906</td>\n",
       "      <td>101683.406250</td>\n",
       "      <td>300.189667</td>\n",
       "      <td>101604.8125</td>\n",
       "      <td>6.018964</td>\n",
       "      <td>140.967346</td>\n",
       "    </tr>\n",
       "    <tr>\n",
       "      <th>...</th>\n",
       "      <td>...</td>\n",
       "      <td>...</td>\n",
       "      <td>...</td>\n",
       "      <td>...</td>\n",
       "      <td>...</td>\n",
       "      <td>...</td>\n",
       "      <td>...</td>\n",
       "      <td>...</td>\n",
       "    </tr>\n",
       "    <tr>\n",
       "      <th>2019-12-31 19:00:00</th>\n",
       "      <td>-4.254151</td>\n",
       "      <td>-0.061509</td>\n",
       "      <td>26.487061</td>\n",
       "      <td>100983.875000</td>\n",
       "      <td>300.971741</td>\n",
       "      <td>100906.1250</td>\n",
       "      <td>4.254596</td>\n",
       "      <td>88.171646</td>\n",
       "    </tr>\n",
       "    <tr>\n",
       "      <th>2019-12-31 20:00:00</th>\n",
       "      <td>-5.589502</td>\n",
       "      <td>-1.243710</td>\n",
       "      <td>26.620117</td>\n",
       "      <td>101006.195312</td>\n",
       "      <td>300.971741</td>\n",
       "      <td>100928.6250</td>\n",
       "      <td>5.726199</td>\n",
       "      <td>76.455589</td>\n",
       "    </tr>\n",
       "    <tr>\n",
       "      <th>2019-12-31 21:00:00</th>\n",
       "      <td>-5.030678</td>\n",
       "      <td>-2.277695</td>\n",
       "      <td>26.343994</td>\n",
       "      <td>101063.640625</td>\n",
       "      <td>300.971741</td>\n",
       "      <td>100985.8750</td>\n",
       "      <td>5.522283</td>\n",
       "      <td>64.640846</td>\n",
       "    </tr>\n",
       "    <tr>\n",
       "      <th>2019-12-31 22:00:00</th>\n",
       "      <td>-3.591888</td>\n",
       "      <td>-1.674487</td>\n",
       "      <td>26.546631</td>\n",
       "      <td>101103.187500</td>\n",
       "      <td>300.816895</td>\n",
       "      <td>101025.7500</td>\n",
       "      <td>3.963025</td>\n",
       "      <td>64.005737</td>\n",
       "    </tr>\n",
       "    <tr>\n",
       "      <th>2019-12-31 23:00:00</th>\n",
       "      <td>-3.265339</td>\n",
       "      <td>-1.920712</td>\n",
       "      <td>26.599487</td>\n",
       "      <td>101161.070312</td>\n",
       "      <td>300.816895</td>\n",
       "      <td>101083.1250</td>\n",
       "      <td>3.788347</td>\n",
       "      <td>58.535439</td>\n",
       "    </tr>\n",
       "  </tbody>\n",
       "</table>\n",
       "<p>154152 rows × 8 columns</p>\n",
       "</div>"
      ],
      "text/plain": [
       "                          u10       v10        t2m            msl         sst  \\\n",
       "time                                                                            \n",
       "2002-06-01 00:00:00 -2.980964  3.847490  26.057373  101721.101562  300.189667   \n",
       "2002-06-01 01:00:00 -2.905829  4.477021  26.161743  101746.890625  300.189667   \n",
       "2002-06-01 02:00:00 -3.098213  4.717507  26.189575  101762.437500  300.189667   \n",
       "2002-06-01 03:00:00 -3.474721  4.825216  25.944702  101728.562500  300.189667   \n",
       "2002-06-01 04:00:00 -3.708346  4.740896  25.878906  101683.406250  300.189667   \n",
       "...                       ...       ...        ...            ...         ...   \n",
       "2019-12-31 19:00:00 -4.254151 -0.061509  26.487061  100983.875000  300.971741   \n",
       "2019-12-31 20:00:00 -5.589502 -1.243710  26.620117  101006.195312  300.971741   \n",
       "2019-12-31 21:00:00 -5.030678 -2.277695  26.343994  101063.640625  300.971741   \n",
       "2019-12-31 22:00:00 -3.591888 -1.674487  26.546631  101103.187500  300.816895   \n",
       "2019-12-31 23:00:00 -3.265339 -1.920712  26.599487  101161.070312  300.816895   \n",
       "\n",
       "                              sp       vel        dire  \n",
       "time                                                    \n",
       "2002-06-01 00:00:00  101642.8750  4.867168  141.232147  \n",
       "2002-06-01 01:00:00  101668.8750  5.337374  146.014252  \n",
       "2002-06-01 02:00:00  101684.1250  5.643917  145.705170  \n",
       "2002-06-01 03:00:00  101650.2500  5.946125  143.241699  \n",
       "2002-06-01 04:00:00  101604.8125  6.018964  140.967346  \n",
       "...                          ...       ...         ...  \n",
       "2019-12-31 19:00:00  100906.1250  4.254596   88.171646  \n",
       "2019-12-31 20:00:00  100928.6250  5.726199   76.455589  \n",
       "2019-12-31 21:00:00  100985.8750  5.522283   64.640846  \n",
       "2019-12-31 22:00:00  101025.7500  3.963025   64.005737  \n",
       "2019-12-31 23:00:00  101083.1250  3.788347   58.535439  \n",
       "\n",
       "[154152 rows x 8 columns]"
      ]
     },
     "execution_count": 49,
     "metadata": {},
     "output_type": "execute_result"
    }
   ],
   "source": [
    "e1['2002-06':]"
   ]
  }
 ],
 "metadata": {
  "kernelspec": {
   "display_name": "Python 3.9.7 ('base')",
   "language": "python",
   "name": "python3"
  },
  "language_info": {
   "codemirror_mode": {
    "name": "ipython",
    "version": 3
   },
   "file_extension": ".py",
   "mimetype": "text/x-python",
   "name": "python",
   "nbconvert_exporter": "python",
   "pygments_lexer": "ipython3",
   "version": "3.9.7"
  },
  "orig_nbformat": 4,
  "vscode": {
   "interpreter": {
    "hash": "ad2bdc8ecc057115af97d19610ffacc2b4e99fae6737bb82f5d7fb13d2f2c186"
   }
  }
 },
 "nbformat": 4,
 "nbformat_minor": 2
}

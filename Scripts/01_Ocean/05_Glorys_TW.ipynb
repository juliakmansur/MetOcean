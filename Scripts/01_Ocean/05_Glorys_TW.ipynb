{
 "cells": [
  {
   "cell_type": "markdown",
   "metadata": {},
   "source": [
    "## Importing Packages"
   ]
  },
  {
   "cell_type": "code",
   "execution_count": 1,
   "metadata": {},
   "outputs": [],
   "source": [
    "import xarray as xr\n",
    "import pandas as pd\n",
    "import numpy  as np\n",
    "import scipy\n",
    "\n",
    "import netCDF4\n",
    "from netCDF4 import Dataset\n",
    "\n",
    "import cartopy.crs as ccrs\n",
    "import cartopy\n",
    "from cartopy.io.shapereader import Reader\n",
    "from cartopy.feature import ShapelyFeature\n",
    "from cartopy.mpl.gridliner import LONGITUDE_FORMATTER, LATITUDE_FORMATTER\n",
    "\n",
    "import matplotlib.pyplot as plt\n",
    "import matplotlib.ticker as mticker\n",
    "import matplotlib\n",
    "\n",
    "import sys\n",
    "import subprocess\n",
    "\n",
    "import seaborn as sns\n",
    "\n",
    "import datetime\n",
    "\n",
    "import glob\n",
    "import os\n",
    "\n",
    "import warnings\n",
    "warnings.filterwarnings(\"ignore\")"
   ]
  },
  {
   "cell_type": "markdown",
   "metadata": {},
   "source": [
    "## Dataset"
   ]
  },
  {
   "cell_type": "markdown",
   "metadata": {},
   "source": [
    "#### Map Information"
   ]
  },
  {
   "cell_type": "code",
   "execution_count": null,
   "metadata": {},
   "outputs": [],
   "source": [
    "shp = 'd:/00_Masters/01_Dados/Shapes/brasil_UF.shp'\n",
    "\n",
    "extent = [-39.1,-33, -14.3,-4.3] # lonmin lonmax latmin latmax\n",
    "proj = ccrs.PlateCarree()"
   ]
  },
  {
   "cell_type": "markdown",
   "metadata": {},
   "source": [
    "#### Glorys Dataset"
   ]
  },
  {
   "cell_type": "code",
   "execution_count": 2,
   "metadata": {},
   "outputs": [],
   "source": [
    "# # Get a list of all .nc files available in different folders\n",
    "filename = \"D:/00_Masters/01_Dados/TW_depth.nc\"\n",
    "dsmerged = xr.open_dataset(filename)"
   ]
  },
  {
   "cell_type": "markdown",
   "metadata": {},
   "source": [
    "# Climatology"
   ]
  },
  {
   "cell_type": "markdown",
   "metadata": {},
   "source": [
    "### Monthly Climatology"
   ]
  },
  {
   "cell_type": "code",
   "execution_count": null,
   "metadata": {},
   "outputs": [],
   "source": [
    "month_climatology = dsmerged['TW_depth'].groupby(\"time.month\").mean()\n",
    "\n",
    "Months = [1,2,3,4,5,6,7,8,9,10,11,12]"
   ]
  },
  {
   "cell_type": "markdown",
   "metadata": {},
   "source": [
    "##### File - Max & Min"
   ]
  },
  {
   "cell_type": "code",
   "execution_count": null,
   "metadata": {},
   "outputs": [],
   "source": [
    "Months_names = ['January','February','March',\n",
    "                'April','May','June',\n",
    "                'July','August','September',\n",
    "                'October','November','December']\n",
    "\n",
    "\n",
    "f = open(\"D:/00_Masters/03_Figuras_Finais/Climatologia/Ocean_temp/Outputs/Limite_Mensal_TW.txt\", \"w+\")\n",
    "for i,m in enumerate(Months):\n",
    "    print('Processing: ' + Months_names[i])\n",
    "    cc = month_climatology.sel(month=m)\n",
    "    vmin = cc.min().values\n",
    "    vmax = cc.max().values\n",
    "    print('\\n' + Months_names[i] + ':', file=f)\n",
    "    print('Min.Temp =', vmin, file=f)\n",
    "    print('Min.Temp =', vmax, file=f)\n",
    "    print('Done: '+ Months_names[i])\n",
    "\n",
    "f.close()  \n",
    "print('\\nFile Closed')\n"
   ]
  },
  {
   "cell_type": "markdown",
   "metadata": {},
   "source": [
    "##### Figure - All maps in ONE"
   ]
  },
  {
   "cell_type": "code",
   "execution_count": null,
   "metadata": {},
   "outputs": [],
   "source": [
    "Months_names = ['JAN','FEB','MAR',\n",
    "                'APR','MAY','JUN',\n",
    "                'JUL','AUG','SEP',\n",
    "                'OCT','NOV','DEC']\n",
    "                \n",
    "## IMPORTANTE FIXAR VALORES PARA OS MINIMOS E MAXIMOS ##\n",
    "Tmin = 33\n",
    "Tmax = 193\n",
    "\n",
    "Versao = 0\n",
    "\n",
    "fig = plt.figure(figsize=(16.53,11.69), dpi = 300, tight_layout=True) # open a new figure window and set the resolution\n",
    "fig.suptitle('Climatology\\nTW/ACAS - σθ 25.7', fontsize=16, y=0.73)\n",
    "fig.subplots_adjust(left=None, bottom=0.1, right=0.835, top=.7, wspace=0.1, hspace=0.005)\n",
    "fig.patch.set_facecolor('white')\n",
    "\n",
    "for n,m in enumerate(Months):\n",
    "    if n>0:\n",
    "        print('Done: '+ Months_names[n-1])\n",
    "\n",
    "    print('Processing: ' + Months_names[n])\n",
    "\n",
    "    cc = month_climatology.sel(month=m)\n",
    "    del cc['month']\n",
    "\n",
    "    ax = plt.subplot(2, 6, n+1, projection=proj)\n",
    "    ax.set_extent(extent)\n",
    "    ax.text(0.9, 0.02, Months_names[n], fontweight='bold', fontsize=12, transform=ax.transAxes, ha=\"right\",)\n",
    "\n",
    "\n",
    "    gl = ax.gridlines(crs=proj, draw_labels=True,\n",
    "                        linewidth=1, color='gray', alpha=0.5, linestyle='--')\n",
    "    gl.xlocator = mticker.FixedLocator(np.arange(-34,-39.5,-2))\n",
    "    gl.ylocator = mticker.FixedLocator(np.arange(-5,-14.5,-2.5)) \n",
    "    gl.xlabels_top = False\n",
    "    gl.ylabels_right = False\n",
    "    gl.xformatter = LONGITUDE_FORMATTER\n",
    "    gl.yformatter = LATITUDE_FORMATTER\n",
    "    plt.rcParams.update({'font.size': 10})\n",
    "\n",
    "    if n != 0 and n != 6:\n",
    "        gl.ylabels_left = False\n",
    "\n",
    "    if n < 6:\n",
    "        gl.xlabels_bottom = False\n",
    "\n",
    "\n",
    "    shape_feature = ShapelyFeature(Reader(shp).geometries(),\n",
    "                                    ccrs.PlateCarree(), edgecolor='gray',linewidth=.5)\n",
    "    ax.add_feature(shape_feature,facecolor='oldlace')\n",
    "\n",
    "    im = cc.plot(ax=ax, transform=proj, vmin=Tmin, vmax=Tmax,\n",
    "                    cmap='rainbow', add_colorbar=False,facecolor='grey')\n",
    "\n",
    "cbar_ax = fig.add_axes([0.85, 0.125, 0.01, 0.55])\n",
    "cbar = fig.colorbar(im, cax=cbar_ax, orientation=\"vertical\",) #shrink=.8\n",
    "cbar.set_label(label='TW Max. Depth (m)', size=12)\n",
    "cbar.ax.tick_params(labelsize=12)\n",
    "\n",
    "print('Done: '+ Months_names[n])\n",
    "\n",
    "plt.savefig('D:/00_Masters/03_Figuras_Finais/Climatologia/Ocean_temp/Figuras/TWacas-Clim_Mensal_v'+ str(Versao) + '.png',\n",
    "            bbox_inches='tight') # Save image as PNG file without large white borders\n",
    "\n",
    "print('Picture: Saved')\n",
    "plt.close()"
   ]
  },
  {
   "cell_type": "markdown",
   "metadata": {},
   "source": [
    "### Seasonal Climatology"
   ]
  },
  {
   "cell_type": "code",
   "execution_count": null,
   "metadata": {},
   "outputs": [],
   "source": [
    "# # Para sazonalidade definida em ['DJF','MAM','JJA','SON']\n",
    "# Season_climatology_0 = temp_0.groupby(\"time.season\").mean()\n",
    "# Season_climatology_30 = temp_30.groupby(\"time.season\").mean()\n",
    "\n",
    "# S_Cs = [Season_climatology_0, Season_climatology_30]\n",
    "\n",
    "# Season = ['DJF','MAM','JJA','SON']\n",
    "# Season_names = ['SUMMER','AUTUMN','WINTER','SPRING']"
   ]
  },
  {
   "cell_type": "code",
   "execution_count": null,
   "metadata": {},
   "outputs": [],
   "source": [
    "Season = [[1,2,3],[4,5,6],[7,8,9],[10,11,12]] \n",
    "Season_names = ['SUMMER','AUTUMN','WINTER','SPRING']\n",
    "\n",
    "season_climatology = {}\n",
    "for s,sn in zip(Season,Season_names):\n",
    "    season_climatology[sn] = dsmerged['TW_depth'].sel(time = np.in1d(dsmerged['time.month'], s)).mean('time')"
   ]
  },
  {
   "cell_type": "markdown",
   "metadata": {},
   "source": [
    "##### File - Max & Min"
   ]
  },
  {
   "cell_type": "code",
   "execution_count": null,
   "metadata": {},
   "outputs": [],
   "source": [
    "\n",
    "f = open(\"D:/00_Masters/03_Figuras_Finais/Climatologia/Ocean_temp/Outputs/Limites_Sazonal_TW.txt\", \"w+\")\n",
    "for i,sn in enumerate(Season_names):\n",
    "    print('Processing: ' + Season_names[i])\n",
    "    cc = season_climatology[sn]\n",
    "    vmin = cc.min().values\n",
    "    vmax = cc.max().values\n",
    "    print('\\n' + Season_names[i] + ':', file=f)\n",
    "    print('Min.Temp =', vmin, file=f)\n",
    "    print('Min.Temp =', vmax, file=f)\n",
    "    print('Done: '+ Season_names[i])\n",
    "\n",
    "f.close()  \n",
    "print('\\nFile Closed')"
   ]
  },
  {
   "cell_type": "markdown",
   "metadata": {},
   "source": [
    "##### Figure - All maps in ONE"
   ]
  },
  {
   "cell_type": "code",
   "execution_count": null,
   "metadata": {},
   "outputs": [],
   "source": [
    "Tmin = 33\n",
    "Tmax = 193\n",
    "## IMPORTANTE FIXAR VALORES PARA OS MINIMOS E MAXIMOS ##\n",
    "\n",
    "Versao = 0\n",
    "\n",
    "fig = plt.figure(figsize=(3.4,6.4),dpi=300)\n",
    "fig.subplots_adjust(left=0.1, bottom=0.1, right=0.85, top=0.8, wspace=0.05, hspace=0.05)\n",
    "fig.suptitle('Climatology\\nTW/ACAS - σθ 25.7', fontsize=12, y=0.85)\n",
    "fig.patch.set_facecolor('white')\n",
    "\n",
    "for n,s in enumerate(Season):\n",
    "    if n > 0:\n",
    "        print('Done: '+ Season_names[n-1])\n",
    "\n",
    "    print('Processing: ' + Season_names[n])\n",
    "\n",
    "    cS = season_climatology[Season_names[n]]\n",
    "\n",
    "    ax = plt.subplot(2, 2, n+1, projection=proj)\n",
    "    ax.set_extent(extent)\n",
    "    ax.text(0.9, 0.02, Season_names[n], fontweight='bold', fontsize=10, transform=ax.transAxes, ha=\"right\",)\n",
    "\n",
    "    gl = ax.gridlines(crs=proj, draw_labels=True,\n",
    "                        linewidth=1, color='gray', alpha=0.5, linestyle='--')\n",
    "    gl.xlocator = mticker.FixedLocator(np.arange(-34,-39.5,-2))\n",
    "    gl.ylocator = mticker.FixedLocator(np.arange(-5,-14.5,-2.5)) \n",
    "    gl.xlabels_top = False\n",
    "    gl.ylabels_right = False\n",
    "    gl.xformatter = LONGITUDE_FORMATTER\n",
    "    gl.yformatter = LATITUDE_FORMATTER\n",
    "    plt.rcParams.update({'font.size': 8})\n",
    "\n",
    "    if n != 0 and n != 2:\n",
    "        gl.ylabels_left = False\n",
    "\n",
    "    if n < 2:\n",
    "        gl.xlabels_bottom = False\n",
    "\n",
    "    shape_feature = ShapelyFeature(Reader(shp).geometries(),\n",
    "                                    ccrs.PlateCarree(), edgecolor='gray',linewidth=.5)\n",
    "    ax.add_feature(shape_feature,facecolor='oldlace')\n",
    "\n",
    "    im = cS.plot(ax=ax, transform=proj, vmin=Tmin, vmax=Tmax, cmap='rainbow', add_colorbar=False,facecolor='grey')\n",
    "\n",
    "print('Done: '+ Season_names[n])   \n",
    "\n",
    "cbar_ax = fig.add_axes([0.90, 0.115, 0.02, 0.67])\n",
    "cbar = fig.colorbar(im, cax=cbar_ax, orientation=\"vertical\")\n",
    "cbar.set_label(label='TW Max. Depth (m)', size=8)\n",
    "cbar.ax.tick_params(labelsize=8)\n",
    "\n",
    "plt.savefig('D:/00_Masters/03_Figuras_Finais/Climatologia/Ocean_temp/Figuras/TWacas-Clim_Sazonal_v'+ str(Versao) + '.png',\n",
    "            bbox_inches='tight')\n",
    "\n",
    "print('Picture: Saved')\n",
    "\n",
    "plt.close()"
   ]
  },
  {
   "cell_type": "markdown",
   "metadata": {},
   "source": [
    "------------------"
   ]
  },
  {
   "cell_type": "markdown",
   "metadata": {},
   "source": [
    "## Ocorrencia < 120"
   ]
  },
  {
   "cell_type": "markdown",
   "metadata": {},
   "source": [
    "###### Exporting values for checking"
   ]
  },
  {
   "cell_type": "code",
   "execution_count": null,
   "metadata": {},
   "outputs": [],
   "source": [
    "vv = month_climatology.to_dataframe() \n",
    "mask = vv['TW_depth'] < 120\n",
    "idx = pd.IndexSlice\n",
    "vv[mask].to_csv('D:/00_Masters/01_Dados/TW_Depths_INTEREST.csv',sep=',')"
   ]
  },
  {
   "cell_type": "code",
   "execution_count": 87,
   "metadata": {},
   "outputs": [],
   "source": [
    "dd = dsmerged.map(lambda p: dsmerged.TW_depth < 120 ) # Return array with boolean % similiar to where\n",
    "\n",
    "Occur = pd.DataFrame(np.zeros((dd.latitude.size,dd.longitude.size)))\n",
    "nOccur = pd.DataFrame(np.zeros(dd.latitude.size))\n",
    "\n",
    "for ti in np.arange(0,dd.time.size,1):\n",
    "# loop through lat,lon indices\n",
    "    for yi in np.arange(0,dd.latitude.size,1):        \n",
    "        for xi in np.arange(0,dd.longitude.size,1):\n",
    "            if dd.TW_depth[ti][yi][xi] == True:\n",
    "                Occur[yi][xi] += 1 \n",
    "            else:\n",
    "                pass\n",
    "\n",
    " \n",
    "for i in np.arange(0,len(Occur)):\n",
    "    nOccur[i] = Occur[i].sum()\n",
    "\n",
    "# Export data\n",
    "Occur.to_csv('D:/00_Masters/01_Dados/matriz_Ocorrencia.csv')\n",
    "nOccur.set_index(dd.latitude.values,inplace=True)\n",
    "nOccur.to_csv('D:/00_Masters/01_Dados/count_lat.csv')\n"
   ]
  },
  {
   "cell_type": "code",
   "execution_count": 146,
   "metadata": {},
   "outputs": [
    {
     "data": {
      "text/html": [
       "<div>\n",
       "<style scoped>\n",
       "    .dataframe tbody tr th:only-of-type {\n",
       "        vertical-align: middle;\n",
       "    }\n",
       "\n",
       "    .dataframe tbody tr th {\n",
       "        vertical-align: top;\n",
       "    }\n",
       "\n",
       "    .dataframe thead th {\n",
       "        text-align: right;\n",
       "    }\n",
       "</style>\n",
       "<table border=\"1\" class=\"dataframe\">\n",
       "  <thead>\n",
       "    <tr style=\"text-align: right;\">\n",
       "      <th></th>\n",
       "      <th>0</th>\n",
       "    </tr>\n",
       "  </thead>\n",
       "  <tbody>\n",
       "    <tr>\n",
       "      <th>-14.333333</th>\n",
       "      <td>1889.0</td>\n",
       "    </tr>\n",
       "    <tr>\n",
       "      <th>-14.250000</th>\n",
       "      <td>2210.0</td>\n",
       "    </tr>\n",
       "    <tr>\n",
       "      <th>-14.166667</th>\n",
       "      <td>2804.0</td>\n",
       "    </tr>\n",
       "    <tr>\n",
       "      <th>-14.083333</th>\n",
       "      <td>3514.0</td>\n",
       "    </tr>\n",
       "    <tr>\n",
       "      <th>-14.000000</th>\n",
       "      <td>1026.0</td>\n",
       "    </tr>\n",
       "    <tr>\n",
       "      <th>...</th>\n",
       "      <td>...</td>\n",
       "    </tr>\n",
       "    <tr>\n",
       "      <th>-5.750000</th>\n",
       "      <td>3733.0</td>\n",
       "    </tr>\n",
       "    <tr>\n",
       "      <th>-5.666667</th>\n",
       "      <td>4288.0</td>\n",
       "    </tr>\n",
       "    <tr>\n",
       "      <th>-5.583333</th>\n",
       "      <td>4979.0</td>\n",
       "    </tr>\n",
       "    <tr>\n",
       "      <th>-5.500000</th>\n",
       "      <td>5802.0</td>\n",
       "    </tr>\n",
       "    <tr>\n",
       "      <th>-5.416667</th>\n",
       "      <td>7242.0</td>\n",
       "    </tr>\n",
       "  </tbody>\n",
       "</table>\n",
       "<p>108 rows × 1 columns</p>\n",
       "</div>"
      ],
      "text/plain": [
       "                 0\n",
       "-14.333333  1889.0\n",
       "-14.250000  2210.0\n",
       "-14.166667  2804.0\n",
       "-14.083333  3514.0\n",
       "-14.000000  1026.0\n",
       "...            ...\n",
       "-5.750000   3733.0\n",
       "-5.666667   4288.0\n",
       "-5.583333   4979.0\n",
       "-5.500000   5802.0\n",
       "-5.416667   7242.0\n",
       "\n",
       "[108 rows x 1 columns]"
      ]
     },
     "execution_count": 146,
     "metadata": {},
     "output_type": "execute_result"
    }
   ],
   "source": [
    "df_sum.iloc[:108]"
   ]
  },
  {
   "cell_type": "code",
   "execution_count": 153,
   "metadata": {},
   "outputs": [
    {
     "data": {
      "text/plain": [
       "<StemContainer object of 3 artists>"
      ]
     },
     "execution_count": 153,
     "metadata": {},
     "output_type": "execute_result"
    },
    {
     "data": {
      "image/png": "[encoded data removed]",
      "text/plain": [
       "<Figure size 640x480 with 1 Axes>"
      ]
     },
     "metadata": {},
     "output_type": "display_data"
    }
   ],
   "source": [
    "plt.stem(df_sum.iloc[:108],markerfmt=\" \",)"
   ]
  },
  {
   "cell_type": "code",
   "execution_count": 45,
   "metadata": {},
   "outputs": [
    {
     "data": {
      "text/plain": [
       "array(True)"
      ]
     },
     "execution_count": 45,
     "metadata": {},
     "output_type": "execute_result"
    }
   ],
   "source": [
    "dd.TW_depth[0][120][-1].values"
   ]
  },
  {
   "cell_type": "code",
   "execution_count": 80,
   "metadata": {},
   "outputs": [],
   "source": [
    "nOcurr = np.zeros(dd.latitude.size)"
   ]
  },
  {
   "cell_type": "code",
   "execution_count": 85,
   "metadata": {},
   "outputs": [
    {
     "data": {
      "text/plain": [
       "8954"
      ]
     },
     "execution_count": 85,
     "metadata": {},
     "output_type": "execute_result"
    }
   ],
   "source": [
    "occur.size"
   ]
  },
  {
   "cell_type": "code",
   "execution_count": 83,
   "metadata": {},
   "outputs": [],
   "source": [
    "nOcurr = np.zeros(dd.latitude.size)\n",
    "for i in np.arange(0,len(occur)):\n",
    "    nOcurr[i] = occur[i].sum()"
   ]
  },
  {
   "cell_type": "code",
   "execution_count": 84,
   "metadata": {},
   "outputs": [
    {
     "data": {
      "text/plain": [
       "(array([60.,  3.,  3.,  1.,  4.,  4.,  2.,  5.,  1.,  2.,  0.,  0.,  1.,\n",
       "         3.,  3.,  0.,  0.,  0.,  1.,  0.,  0.,  0.,  1.,  0.,  0.,  1.,\n",
       "         0.,  0.,  0.,  0.,  0.,  0.,  0.,  0.,  0.,  0.,  1.,  0.,  0.,\n",
       "         0.,  0.,  1.,  0.,  0.,  0.,  0.,  0.,  0.,  0.,  0.,  0.,  1.,\n",
       "         0.,  0.,  0.,  0.,  0.,  0.,  1.,  0.,  0.,  0.,  0.,  0.,  0.,\n",
       "         0.,  0.,  0.,  0.,  0.,  0.,  0.,  0.,  0.,  0.,  0.,  0.,  0.,\n",
       "         0.,  0.,  0.,  0.,  0.,  0.,  0.,  0.,  0.,  0.,  0.,  0.,  0.,\n",
       "         0.,  0.,  0.,  0.,  0.,  0.,  0.,  0.,  0.,  0.,  0.,  0.,  0.,\n",
       "         0.,  0.,  0.,  1.,  0.,  0.,  0.,  0.,  0.,  0.,  0.,  0.,  0.,\n",
       "         0.,  0.,  0.]),\n",
       " array([  0,   1,   2,   3,   4,   5,   6,   7,   8,   9,  10,  11,  12,\n",
       "         13,  14,  15,  16,  17,  18,  19,  20,  21,  22,  23,  24,  25,\n",
       "         26,  27,  28,  29,  30,  31,  32,  33,  34,  35,  36,  37,  38,\n",
       "         39,  40,  41,  42,  43,  44,  45,  46,  47,  48,  49,  50,  51,\n",
       "         52,  53,  54,  55,  56,  57,  58,  59,  60,  61,  62,  63,  64,\n",
       "         65,  66,  67,  68,  69,  70,  71,  72,  73,  74,  75,  76,  77,\n",
       "         78,  79,  80,  81,  82,  83,  84,  85,  86,  87,  88,  89,  90,\n",
       "         91,  92,  93,  94,  95,  96,  97,  98,  99, 100, 101, 102, 103,\n",
       "        104, 105, 106, 107, 108, 109, 110, 111, 112, 113, 114, 115, 116,\n",
       "        117, 118, 119, 120]),\n",
       " <BarContainer object of 120 artists>)"
      ]
     },
     "execution_count": 84,
     "metadata": {},
     "output_type": "execute_result"
    },
    {
     "data": {
      "image/png": "[encoded data removed]",
      "text/plain": [
       "<Figure size 640x480 with 1 Axes>"
      ]
     },
     "metadata": {},
     "output_type": "display_data"
    }
   ],
   "source": [
    "plt.hist(nOcurr,np.arange(0,len(occur)))#,weight=nOcurr)"
   ]
  },
  {
   "cell_type": "code",
   "execution_count": 72,
   "metadata": {},
   "outputs": [
    {
     "data": {
      "text/plain": [
       "array([ 0.,  3.,  6.,  9., 12., 15., 18., 21., 24., 27., 30.])"
      ]
     },
     "execution_count": 72,
     "metadata": {},
     "output_type": "execute_result"
    }
   ],
   "source": [
    "bins"
   ]
  }
 ],
 "metadata": {
  "kernelspec": {
   "display_name": "Python 3.9.7 ('base')",
   "language": "python",
   "name": "python3"
  },
  "language_info": {
   "codemirror_mode": {
    "name": "ipython",
    "version": 3
   },
   "file_extension": ".py",
   "mimetype": "text/x-python",
   "name": "python",
   "nbconvert_exporter": "python",
   "pygments_lexer": "ipython3",
   "version": "3.9.13"
  },
  "orig_nbformat": 4,
  "vscode": {
   "interpreter": {
    "hash": "ad2bdc8ecc057115af97d19610ffacc2b4e99fae6737bb82f5d7fb13d2f2c186"
   }
  }
 },
 "nbformat": 4,
 "nbformat_minor": 2
}

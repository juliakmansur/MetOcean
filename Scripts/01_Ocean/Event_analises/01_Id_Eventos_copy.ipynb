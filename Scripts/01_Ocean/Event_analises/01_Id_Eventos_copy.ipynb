{
 "cells": [
  {
   "cell_type": "markdown",
   "metadata": {},
   "source": [
    "## Importing Packages"
   ]
  },
  {
   "cell_type": "code",
   "execution_count": 1,
   "metadata": {},
   "outputs": [],
   "source": [
    "import xarray as xr\n",
    "import pandas as pd\n",
    "import matplotlib.pyplot as plt\n",
    "import netCDF4\n",
    "from netCDF4 import Dataset\n",
    "import numpy  as np\n",
    "import scipy\n",
    "\n",
    "import cartopy.crs as ccrs\n",
    "import cartopy\n",
    "from cartopy.io.shapereader import Reader\n",
    "from cartopy.feature import ShapelyFeature\n",
    "from cartopy.mpl.gridliner import LONGITUDE_FORMATTER, LATITUDE_FORMATTER\n",
    "\n",
    "import matplotlib.pyplot as plt\n",
    "import matplotlib.ticker as mticker\n",
    "import matplotlib\n",
    "import matplotlib.dates as mdates\n",
    "from matplotlib.ticker import AutoMinorLocator, StrMethodFormatter\n",
    "from matplotlib.pyplot import cm\n",
    "from matplotlib.lines import Line2D\n",
    "\n",
    "from gsw import p_from_z\n",
    "from gsw import pot_rho_t_exact as prho\n",
    "\n",
    "import seaborn as sns\n",
    "\n",
    "import datetime\n",
    "\n",
    "from scipy import interpolate, ndimage\n",
    "from PIL import Image\n",
    "from matplotlib.offsetbox import OffsetImage, AnnotationBbox\n",
    "\n",
    "import sys\n",
    "import subprocess\n",
    "\n",
    "from datetime import datetime, date\n",
    "\n",
    "import glob\n",
    "import os\n",
    "\n",
    "import warnings\n",
    "warnings.filterwarnings(\"ignore\")"
   ]
  },
  {
   "cell_type": "markdown",
   "metadata": {},
   "source": [
    "## Dataset"
   ]
  },
  {
   "cell_type": "markdown",
   "metadata": {},
   "source": [
    "#### Glorys Dataset"
   ]
  },
  {
   "cell_type": "code",
   "execution_count": 2,
   "metadata": {},
   "outputs": [],
   "source": [
    "# # Get a list of all .nc files available in different folders\n",
    "filenames = glob.glob(\"d:/00_Masters/01_Dados/Mercator/*.nc\")\n",
    "dsmerged = xr.open_mfdataset(filenames)\n",
    "\n",
    "# # Corrige erro de datas duplicadas pelo mfdataset\n",
    "_, index = np.unique(dsmerged['time'], return_index=True)\n",
    "dsmerged = dsmerged.isel(time=index)"
   ]
  },
  {
   "cell_type": "markdown",
   "metadata": {},
   "source": [
    "### Select area and export "
   ]
  },
  {
   "cell_type": "code",
   "execution_count": null,
   "metadata": {},
   "outputs": [],
   "source": [
    "# ESTAÇÃO JP\n",
    "JP = dsmerged.sel(latitude=-6.5, longitude=-34.75, method='nearest')\n",
    "# JP['thetao'].to_dataframe()\n",
    "JP['thetao'].to_netcdf('d:/00_Masters/01_Dados/Station_Cases/Glorys_Station_JP.nc')"
   ]
  },
  {
   "cell_type": "code",
   "execution_count": 3,
   "metadata": {},
   "outputs": [],
   "source": [
    "# ESTAÇÃO PE - Ponta das Pedras / Ilha de Itamaracá\n",
    "PE_2 = dsmerged.sel(latitude=-7.75, longitude=-34.50, method='nearest')\n",
    "# PE_2['thetao'].to_dataframe()\n",
    "PE_2['thetao'].to_netcdf('d:/00_Masters/01_Dados/Station_Cases/Glorys_Station_PE_2.nc')"
   ]
  },
  {
   "cell_type": "code",
   "execution_count": 4,
   "metadata": {},
   "outputs": [],
   "source": [
    "# ESTAÇÃO PE - Cabo de Santo Agostinho\n",
    "PE_CSA = dsmerged.sel(latitude=-8.33, longitude=-34.66, method='nearest')\n",
    "# PE_CSA['thetao'].to_dataframe()\n",
    "PE_CSA['thetao'].to_netcdf('d:/00_Masters/01_Dados/Station_Cases/Glorys_Station_PE_CSA.nc')"
   ]
  },
  {
   "cell_type": "code",
   "execution_count": 5,
   "metadata": {},
   "outputs": [],
   "source": [
    "# ESTAÇÃO AL - Maragogigi\n",
    "AL = dsmerged.sel(latitude=-9.17, longitude=-34.92, method='nearest')\n",
    "# AL['thetao'].to_dataframe()\n",
    "AL['thetao'].to_netcdf('d:/00_Masters/01_Dados/Station_Cases/Glorys_Station_AL.nc')"
   ]
  },
  {
   "cell_type": "code",
   "execution_count": 6,
   "metadata": {},
   "outputs": [],
   "source": [
    "# ESTAÇÃO SERGIPE - Canyon Sao Francisco / Canyon do Japaratuba\n",
    "SE = dsmerged.sel(latitude=-11.0, longitude=-36.75, method='nearest')\n",
    "# SE['thetao'].to_dataframe()\n",
    "SE['thetao'].to_netcdf('d:/00_Masters/01_Dados/Station_Cases/Glorys_Station_AL_CSF.nc')"
   ]
  },
  {
   "cell_type": "code",
   "execution_count": null,
   "metadata": {},
   "outputs": [],
   "source": [
    "# ESTAÇÃO PRAIA DO FORTE - A0\n",
    "PF = dsmerged.interp(latitude=-12.60288903576, longitude=-37.974646744616, method='quadratic')\n",
    "# PF = PF['thetao'].sel(depth=29,method='nearest')\n",
    "# PF = PF.to_dataframe()\n",
    "PF['thetao'].to_netcdf('d:/00_Masters/01_Dados/Station_Cases/Glorys_Station_PF.nc')"
   ]
  },
  {
   "cell_type": "code",
   "execution_count": null,
   "metadata": {},
   "outputs": [],
   "source": [
    "# ESTAÇÃO BAIA DE CAMAMU - Canyon Guaibim\n",
    "BAcam = dsmerged.sel(latitude=-13.33, longitude=-38.75, method='nearest')\n",
    "# BAcam['thetao'].to_dataframe()\n",
    "BAcam['thetao'].to_netcdf('d:/00_Masters/01_Dados/Station_Cases/Glorys_Station_BA_CAM.nc')"
   ]
  },
  {
   "cell_type": "markdown",
   "metadata": {},
   "source": [
    "-----"
   ]
  },
  {
   "cell_type": "code",
   "execution_count": null,
   "metadata": {},
   "outputs": [],
   "source": [
    "# df_list = [PF,SE,BAcam,AL,PE_CSA,PE_2,JP]\n",
    "df_list = PF"
   ]
  },
  {
   "cell_type": "code",
   "execution_count": null,
   "metadata": {},
   "outputs": [],
   "source": [
    "cutoff_value = -.2\n",
    "\n",
    "temp_list = []\n",
    "eventos_list = []\n",
    "dates_list = []\n",
    "\n",
    "for i,n in enumerate(df_list.index):\n",
    "    if i < (len(df_list)-1):\n",
    "        e = df_list.thetao[i+1] - df_list.thetao[i]\n",
    "        d = df_list.index[i+1]\n",
    "        t = df_list.thetao[i+1]\n",
    "        if (e <= cutoff_value):\n",
    "            temp_list.append(t)\n",
    "            eventos_list.append(e)\n",
    "            dates_list.append(d)\n",
    "        elif (len(dates_list)>1) and (dates_list[-1] == df_list.index[i]) and (e < 0):\n",
    "            temp_list.append(t)\n",
    "            eventos_list.append(e)\n",
    "            dates_list.append(d)\n",
    "\n",
    "\n",
    "eventos = pd.DataFrame({'time': dates_list,'temp':temp_list,'diff': eventos_list})\n",
    "eventos.set_index('time',inplace=True,drop=True)\n",
    "eventos.to_csv('D:/00_Masters/03_Figuras_Finais/Eventos_PF.csv',sep=';',decimal=',')\n"
   ]
  },
  {
   "cell_type": "markdown",
   "metadata": {},
   "source": [
    "# Figuras"
   ]
  },
  {
   "cell_type": "markdown",
   "metadata": {},
   "source": [
    "#### Perfil Temperatura"
   ]
  },
  {
   "cell_type": "code",
   "execution_count": null,
   "metadata": {},
   "outputs": [],
   "source": [
    "fig, ax = plt.subplots()\n",
    "\n",
    "depth = [0.494025,   5.078224,   9.572997,  15.81007 ,  18.49556 ,  21.59882 ,  25.21141 ,  29.44473, 34.43415 ]\n",
    "\n",
    "ax.set_ylim(23,29)\n",
    "\n",
    "color=cm.coolwarm_r(np.linspace(0,1,9))\n",
    "for d,c in zip(depth,color):\n",
    "    p = Merc_PF.sel(depth=d,method='nearest')\n",
    "    p['thetao'].plot(c=c)\n",
    "\n",
    "\n",
    "plt.legend(labels=['0.5m','5.0m','9.6m','15.8m','18.5m','21.6m','25.2m','29.4m','34.4m'],\n",
    "           bbox_to_anchor=(1.01, 1), loc='upper left')\n",
    "plt.grid(linestyle='--',alpha=0.7,which='both')\n",
    "ax.set_xlabel('')\n",
    "ax.set_ylabel('Temp. (°C)')\n",
    "\n",
    "ax.set_title('')\n",
    "\n",
    "ax.xaxis.set_major_locator(\n",
    "    mdates.MonthLocator(bymonth=(11,12,1,2,3,4)))\n",
    "ax.xaxis.set_minor_locator(\n",
    "    mdates.DayLocator(bymonthday=(10,20)))\n",
    "\n",
    "ax.xaxis.set_major_formatter(\n",
    "    mdates.ConciseDateFormatter(ax.xaxis.get_major_locator()))\n",
    "\n",
    "ax.xaxis.set_major_formatter(mdates.DateFormatter('%b\\n%Y'))\n",
    "ax.xaxis.set_minor_formatter(mdates.DateFormatter('%d'))\n",
    "\n",
    "ax.tick_params(which='minor', width=1, \n",
    "               labelsize=8.5)\n",
    "ax.tick_params(which='major', length=10, \n",
    "               pad=4.2, labelrotation=0,)\n",
    "\n",
    "ax.set_xlim(17471,17625)\n",
    "# ax.set_xlim('2017-11-01','2018-04-05')\n",
    "\n",
    "plt.savefig('D:/Users/julia/Desktop/Academia/01_Mestrado/Resultados/PF-Merc_depths.png', format='png', dpi=300, bbox_inches='tight')\n",
    "plt.show()"
   ]
  },
  {
   "cell_type": "markdown",
   "metadata": {},
   "source": [
    "##### PERFIL VERTICAL DE TEMPERATURA - COUNTOURF"
   ]
  },
  {
   "cell_type": "code",
   "execution_count": null,
   "metadata": {},
   "outputs": [],
   "source": [
    "temp = Merc_PF['thetao'].sel(depth=slice(0,35))\n",
    "t = temp.values\n",
    "t = t.transpose()\n",
    "ti, d = np.meshgrid(temp.time, temp.depth,sparse=False)"
   ]
  },
  {
   "cell_type": "code",
   "execution_count": null,
   "metadata": {},
   "outputs": [],
   "source": [
    "fig, [ax,ax2] = plt.subplots(1, 2, sharey=True, gridspec_kw={'width_ratios': [3, 1]})\n",
    "fig.set_figheight(2)\n",
    "fig.set_figwidth(15)\n",
    "fig.subplots_adjust(wspace=0.015)\n",
    "cbar_ax = fig.add_axes([.91, 0.15, 0.01, 0.7])\n",
    "\n",
    "vmin = 24\n",
    "vmax = 28\n",
    "levels = np.arange(24,28.2,.25)\n",
    "norm = matplotlib.colors.Normalize(vmin=vmin, vmax=vmax)\n",
    "\n",
    "# norm = matplotlib.colors.Normalize(vmin=24, vmax=28)\n",
    "# c = ax.pcolormesh(ti, d, t,cmap='jet',vmin=24, vmax=28, shading='gouraud', snap=True)\n",
    "# ax2.pcolormesh(ti, d, t,cmap='jet',vmin=24, vmax=28, shading='gouraud', snap=True)\n",
    "# cbar = fig.colorbar(c, cax=cbar_ax,  ticks=[24,26,28], orientation=\"vertical\",) #shrink=.8 sm\n",
    "# cbar.set_label(label='Temp. (°C)', size=12)\n",
    "# cbar.ax.tick_params(labelsize=12)\n",
    "\n",
    "# Sem shading\n",
    "c = ax.contourf(ti, d, t,cmap='jet',vmin=vmin, vmax=vmax, levels=levels, extend='both')\n",
    "ax2.contourf(ti, d, t,cmap='jet',vmin=vmin, vmax=vmax, levels=levels, extend='both')\n",
    "# sm = plt.cm.ScalarMappable(norm=norm, cmap = c.cmap)\n",
    "# sm.set_array([])\n",
    "cbar = fig.colorbar(c, cax=cbar_ax, ticks=[24,26,28], orientation=\"vertical\",) #shrink=.8 sm\n",
    "cbar.set_label(label='°C', size=12, rotation=0, labelpad=15,loc='top' )\n",
    "cbar.ax.tick_params(labelsize=12)\n",
    "\n",
    "\n",
    "# Zoom out\n",
    "# ax.invert_yaxis()\n",
    "ax.xaxis.set_major_locator(\n",
    "    mdates.MonthLocator(bymonth=(11,12,1,2,3)))\n",
    "ax.xaxis.set_minor_locator(\n",
    "    mdates.DayLocator(bymonthday=(1,7,14,21,28)))\n",
    "ax.xaxis.set_major_formatter(\n",
    "    mdates.ConciseDateFormatter(ax.xaxis.get_major_locator()))\n",
    "ax.xaxis.set_major_formatter(mdates.DateFormatter('%b\\n%Y'))\n",
    "ax.xaxis.set_minor_formatter(mdates.DateFormatter('%d'))\n",
    "ax.tick_params(which='minor', width=1.0, \n",
    "               labelsize=8.5)\n",
    "ax.tick_params(which='major', length=10, \n",
    "               pad=4.2, labelrotation=0,)\n",
    "# ax.set_xlim('2017-11-01','2018-04-05')\n",
    "ax.set_xlim(17471-16,17591)\n",
    "\n",
    "\n",
    "# zoom in\n",
    "ax2.invert_yaxis()\n",
    "ax2.xaxis.set_major_locator(\n",
    "    mdates.MonthLocator(bymonth=(11,12,1,2,3)))\n",
    "ax2.xaxis.set_minor_locator(\n",
    "    mdates.DayLocator(bymonthday=(1,7,14,21,28)))\n",
    "ax2.xaxis.set_major_formatter(\n",
    "    mdates.ConciseDateFormatter(ax.xaxis.get_major_locator()))\n",
    "ax2.xaxis.set_major_formatter(mdates.DateFormatter('%b\\n%Y'))\n",
    "ax2.xaxis.set_minor_formatter(mdates.DateFormatter('%d'))\n",
    "ax2.tick_params(which='minor', width=1.0, \n",
    "               labelsize=8.5)\n",
    "ax2.tick_params(which='major', length=10, \n",
    "               pad=4.2, labelrotation=0,)\n",
    "# ax2.set_xlim('2017-12-15','2018-02-15')\n",
    "ax2.set_xlim(17471+20,17591-20)\n",
    "\n",
    "\n",
    "# Migué na legenda\n",
    "l = ('10', '20', '30')\n",
    "ax.set_yticks(np.arange(5,34.5,10))\n",
    "ax.set_yticklabels(['30', '20', '10'])\n",
    "ax.set_ylabel('Distancia \\ndo fundo (m)')\n",
    "ax.set_ylabel('Distancia \\ndo fundo (m)')\n",
    "\n",
    "plt.savefig('D:/Users/julia/Desktop/Academia/01_Mestrado/Resultados/PerfTemp_2017PF_v6.png',\n",
    "            format='png', dpi=300, bbox_inches='tight')\n",
    "plt.show()\n"
   ]
  },
  {
   "cell_type": "code",
   "execution_count": null,
   "metadata": {},
   "outputs": [],
   "source": []
  }
 ],
 "metadata": {
  "kernelspec": {
   "display_name": "Python 3.9.13 ('base')",
   "language": "python",
   "name": "python3"
  },
  "language_info": {
   "codemirror_mode": {
    "name": "ipython",
    "version": 3
   },
   "file_extension": ".py",
   "mimetype": "text/x-python",
   "name": "python",
   "nbconvert_exporter": "python",
   "pygments_lexer": "ipython3",
   "version": "3.9.13"
  },
  "orig_nbformat": 4,
  "vscode": {
   "interpreter": {
    "hash": "ad2bdc8ecc057115af97d19610ffacc2b4e99fae6737bb82f5d7fb13d2f2c186"
   }
  }
 },
 "nbformat": 4,
 "nbformat_minor": 2
}

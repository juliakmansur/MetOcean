{
 "cells": [
  {
   "cell_type": "markdown",
   "metadata": {},
   "source": [
    "## Importing Packages"
   ]
  },
  {
   "cell_type": "code",
   "execution_count": 1,
   "metadata": {},
   "outputs": [],
   "source": [
    "import xarray as xr\n",
    "import pandas as pd\n",
    "import numpy  as np\n",
    "import scipy\n",
    "\n",
    "import netCDF4\n",
    "from netCDF4 import Dataset\n",
    "\n",
    "import cartopy.crs as ccrs\n",
    "import cartopy\n",
    "from cartopy.io.shapereader import Reader\n",
    "from cartopy.feature import ShapelyFeature\n",
    "from cartopy.mpl.gridliner import LONGITUDE_FORMATTER, LATITUDE_FORMATTER\n",
    "\n",
    "import matplotlib.pyplot as plt\n",
    "import matplotlib.ticker as mticker\n",
    "import matplotlib\n",
    "\n",
    "import sys\n",
    "import subprocess\n",
    "\n",
    "import seaborn as sns\n",
    "\n",
    "import datetime\n",
    "\n",
    "import glob\n",
    "import os\n",
    "\n",
    "import warnings\n",
    "warnings.filterwarnings(\"ignore\")"
   ]
  },
  {
   "cell_type": "code",
   "execution_count": 2,
   "metadata": {},
   "outputs": [
    {
     "name": "stdout",
     "output_type": "stream",
     "text": [
      "Using matplotlib backend: Qt5Agg\n"
     ]
    }
   ],
   "source": [
    "%matplotlib\n",
    "%matplotlib inline"
   ]
  },
  {
   "cell_type": "markdown",
   "metadata": {},
   "source": [
    "## Dataset"
   ]
  },
  {
   "cell_type": "markdown",
   "metadata": {},
   "source": [
    "#### Map Information"
   ]
  },
  {
   "cell_type": "code",
   "execution_count": 3,
   "metadata": {},
   "outputs": [],
   "source": [
    "shp = 'd:/00_Masters/01_Dados/Shapes/brasil_UF.shp'\n",
    "\n",
    "extent = [-39.1,-33, -14.3,-4.3] # lonmin lonmax latmin latmax\n",
    "proj = ccrs.PlateCarree()"
   ]
  },
  {
   "cell_type": "markdown",
   "metadata": {},
   "source": [
    "#### Glorys Dataset"
   ]
  },
  {
   "cell_type": "code",
   "execution_count": 4,
   "metadata": {},
   "outputs": [],
   "source": [
    "# # Get a list of all .nc files available in different folders\n",
    "filenames = glob.glob(\"d:/00_Masters/01_Dados/Mercator/*.nc\")\n",
    "dsmerged = xr.open_mfdataset(filenames)\n",
    "\n",
    "# # Corrige erro de datas duplicadas pelo mfdataset\n",
    "_, index = np.unique(dsmerged['time'], return_index=True)\n",
    "dsmerged = dsmerged.isel(time=index)"
   ]
  },
  {
   "cell_type": "markdown",
   "metadata": {},
   "source": [
    "             Defining DEPTHS of interest "
   ]
  },
  {
   "cell_type": "code",
   "execution_count": 5,
   "metadata": {},
   "outputs": [],
   "source": [
    "Depth_0 = dsmerged.sel(depth=0,method='nearest')\n",
    "Depth_0['speed'] = np.sqrt(Depth_0['uo']**2+Depth_0['vo']**2)\n",
    "Depth_0['direction'] = np.mod(180+np.rad2deg(np.arctan2(Depth_0['uo'],Depth_0['vo'])),360)\n",
    "# Depth_0['direction'][Depth_0['direction']<0] += 360\n",
    "vN_sup = Depth_0['vo'] #vetor perpendicular importante em superfície\n",
    "\n",
    "\n",
    "Depth_30 = dsmerged.sel(depth=30,method='nearest')\n",
    "Depth_30['speed'] = np.sqrt(Depth_30['uo']**2+Depth_30['vo']**2)\n",
    "Depth_30['direction'] = np.mod(180+np.rad2deg(np.arctan2(Depth_30['uo'],Depth_30['vo'])),360)\n",
    "# Depth_30['direction'][Depth_30['direction']<0] += 360\n",
    "uE_30m = Depth_30['uo'] #vetor transversal importante na camada de \"fundo\"\n",
    "\n",
    "depths = [0,30]"
   ]
  },
  {
   "cell_type": "markdown",
   "metadata": {},
   "source": [
    "# Climatology"
   ]
  },
  {
   "cell_type": "markdown",
   "metadata": {},
   "source": [
    "### Monthly Climatology"
   ]
  },
  {
   "cell_type": "code",
   "execution_count": 6,
   "metadata": {},
   "outputs": [],
   "source": [
    "Month_climatology_0 = Depth_0.groupby(\"time.month\").mean()\n",
    "Month_climatology_30 = Depth_30.groupby(\"time.month\").mean()\n",
    "\n",
    "M_Cs = [Month_climatology_0,Month_climatology_30]\n",
    "\n",
    "Months = [1,2,3,4,5,6,7,8,9,10,11,12]"
   ]
  },
  {
   "cell_type": "markdown",
   "metadata": {},
   "source": [
    "##### File - Max & Min"
   ]
  },
  {
   "cell_type": "code",
   "execution_count": null,
   "metadata": {},
   "outputs": [],
   "source": [
    "Months_names = ['January','February','March',\n",
    "                'April','May','June',\n",
    "                'July','August','September',\n",
    "                'October','November','December']\n",
    "\n",
    "for n,d in enumerate(depths):\n",
    "    f = open(\"D:/00_Masters/02_Resultados_Parciais/Climatologia/Ocean_Curr/Outputs/Limite_Mensal_Curr_uEvN_d{}.txt\".format(d), \"w+\")\n",
    "    for i,m in enumerate(Months):\n",
    "        print('Processing: ' + Months_names[i])\n",
    "        cc = M_Cs[n].sel(month=m)\n",
    "        vmin_uE = cc['uo'].min().values\n",
    "        vmax_uE = cc['uo'].max().values\n",
    "        vmin_vN = cc['vo'].min().values\n",
    "        vmax_vN = cc['vo'].max().values      \n",
    "        print('\\n' + Months_names[i] + ':', file=f)\n",
    "        print('uE - Min.Temp =', vmin_uE, file=f)\n",
    "        print('uE - Max.Temp =', vmax_uE, file=f)\n",
    "        print('vN - Min.Temp =', vmin_vN, file=f)\n",
    "        print('vN - Max.Temp =', vmax_vN, file=f)\n",
    "        print('Done: '+ Months_names[i])\n",
    "    \n",
    "    f.close()  \n",
    "    print('\\nFile Closed')\n",
    "    if n < np.size(depths)-1:\n",
    "        print('\\nStarting Next Depth\\n')\n",
    "    else:\n",
    "        print('\\nDone')"
   ]
  },
  {
   "cell_type": "markdown",
   "metadata": {},
   "source": [
    "##### Figure - All maps in ONE"
   ]
  },
  {
   "cell_type": "code",
   "execution_count": 17,
   "metadata": {},
   "outputs": [
    {
     "name": "stdout",
     "output_type": "stream",
     "text": [
      "Processing: JAN\n",
      "Done: JAN\n",
      "Processing: FEB\n",
      "Done: FEB\n",
      "Processing: MAR\n",
      "Done: MAR\n",
      "Processing: APR\n",
      "Done: APR\n",
      "Processing: MAY\n",
      "Done: MAY\n",
      "Processing: JUN\n",
      "Done: JUN\n",
      "Processing: JUL\n",
      "Done: JUL\n",
      "Processing: AUG\n",
      "Done: AUG\n",
      "Processing: SEP\n",
      "Done: SEP\n",
      "Processing: OCT\n",
      "Done: OCT\n",
      "Processing: NOV\n",
      "Done: NOV\n",
      "Processing: DEC\n",
      "Done: DEC\n",
      "Picture: Saved\n",
      "\n",
      "Starting Next Depth\n",
      "\n",
      "Processing: JAN\n",
      "Done: JAN\n",
      "Processing: FEB\n",
      "Done: FEB\n",
      "Processing: MAR\n",
      "Done: MAR\n",
      "Processing: APR\n",
      "Done: APR\n",
      "Processing: MAY\n",
      "Done: MAY\n",
      "Processing: JUN\n",
      "Done: JUN\n",
      "Processing: JUL\n",
      "Done: JUL\n",
      "Processing: AUG\n",
      "Done: AUG\n",
      "Processing: SEP\n",
      "Done: SEP\n",
      "Processing: OCT\n",
      "Done: OCT\n",
      "Processing: NOV\n",
      "Done: NOV\n",
      "Processing: DEC\n",
      "Done: DEC\n",
      "Picture: Saved\n",
      "\n",
      "Done\n"
     ]
    }
   ],
   "source": [
    "Versao = 0\n",
    "\n",
    "Months_names = ['JAN','FEB','MAR',\n",
    "                'APR','MAY','JUN',\n",
    "                'JUL','AUG','SEP',\n",
    "                'OCT','NOV','DEC']\n",
    "                \n",
    "## IMPORTANTE FIXAR VALORES PARA OS MINIMOS E MAXIMOS ##\n",
    "Tmin = [-1,-1]\n",
    "Tmax = [1,1]\n",
    "Smin = 0\n",
    "Smax = .2\n",
    "ArrowC = sns.color_palette(\"coolwarm\")\n",
    "step = 5\n",
    "depths= [0,30]\n",
    "\n",
    "for i,d in enumerate(depths):\n",
    "\n",
    "    fig = plt.figure(figsize=(16.53,11.69), dpi = 300, tight_layout=True) # open a new figure window and set the resolution\n",
    "    fig.suptitle('Climatology\\nDepth = '+str(round(float(M_Cs[i]['depth'].values),2))+'m', fontsize=16, y=0.92)\n",
    "    fig.subplots_adjust(left=None, bottom=0.1, right=0.835, top=.7, wspace=0.1, hspace=0.005)\n",
    "    fig.patch.set_facecolor('white')\n",
    "    \n",
    "    for n,m in enumerate(Months):\n",
    "        if n>0:\n",
    "            print('Done: '+ Months_names[n-1])\n",
    "\n",
    "        print('Processing: ' + Months_names[n])\n",
    "\n",
    "        cc = M_Cs[i].sel(month=m).squeeze()\n",
    "        del cc['month']\n",
    "        del cc['depth']\n",
    "        uE = cc['uo']\n",
    "        vN = cc['vo']\n",
    "        # speed = cc['speed']\n",
    "\n",
    "        ax = plt.subplot(2, 6, n+1, projection=proj)\n",
    "        ax.set_extent(extent)\n",
    "        ax.text(0.9, 0.02, Months_names[n], fontweight='bold', fontsize=12, transform=ax.transAxes, ha=\"right\",)\n",
    "\n",
    "        plt.rcParams.update({'font.size': 10})\n",
    "\n",
    "        shape_feature = ShapelyFeature(Reader(shp).geometries(),\n",
    "                                        ccrs.PlateCarree(), edgecolor='gray',linewidth=.5)\n",
    "        ax.add_feature(shape_feature,facecolor='oldlace')\n",
    "\n",
    "        im = cc['speed'].plot.contourf(ax=ax, transform=proj, vmin=Smin, vmax=Smax, add_colorbar=False, alpha=0.5)\n",
    "        lon, lat = np.meshgrid(cc['longitude'],cc['latitude'])\n",
    "        ax.quiver(lon[::step,::step],lat[::step,::step],cc['uo'][::step,::step],cc['vo'][::step,::step],\n",
    "                    pivot='middle',scale=2,width=.008,headwidth=2,headlength=2)#,scale=0.55,)#,color=ArrowC)\n",
    "\n",
    "        gl = ax.gridlines(crs=proj, draw_labels=True,\n",
    "                          linewidth=1, color='gray', alpha=0.5, linestyle='--')\n",
    "        gl.xlocator = mticker.FixedLocator(np.arange(-34,-39.5,-2))\n",
    "        gl.ylocator = mticker.FixedLocator(np.arange(-5,-14.5,-2.5)) \n",
    "        gl.xlabels_top = False\n",
    "        gl.ylabels_right = False\n",
    "        gl.xformatter = LONGITUDE_FORMATTER\n",
    "        gl.yformatter = LATITUDE_FORMATTER\n",
    "\n",
    "        if n != 0 and n != 6:\n",
    "            gl.ylabels_left = False\n",
    "\n",
    "        if n < 6:\n",
    "            gl.xlabels_bottom = False\n",
    "\n",
    "    cbar_ax = fig.add_axes([1.05, 0.08, 0.01, 0.8])\n",
    "    cbar = fig.colorbar(im, cax=cbar_ax, orientation=\"vertical\") #shrink=.8\n",
    "    cbar.set_label(label='Speed (m/s)', size=12)\n",
    "    cbar.ax.tick_params(labelsize=12)\n",
    "\n",
    "    print('Done: '+ Months_names[n])\n",
    "\n",
    "    plt.savefig('D:/00_Masters/02_Resultados_Parciais/Climatologia/Ocean_Curr/Figuras/Curr-Clim_Mensal_d'+str(d)+'_v'+ str(Versao) + '.png',\n",
    "                bbox_inches='tight') # Save image as PNG file without large white borders\n",
    "\n",
    "    print('Picture: Saved')\n",
    "    plt.close()\n",
    "    if i < np.size(depths)-1:\n",
    "        print('\\nStarting Next Depth\\n')\n",
    "    else:\n",
    "        print('\\nDone')\n",
    "    plt.show()"
   ]
  },
  {
   "cell_type": "markdown",
   "metadata": {},
   "source": [
    "### Seasonal Climatology"
   ]
  },
  {
   "cell_type": "code",
   "execution_count": 20,
   "metadata": {},
   "outputs": [],
   "source": [
    "Season = [[1,2,3],[4,5,6],[7,8,9],[10,11,12]] \n",
    "Season_names = ['SUMMER','AUTUMN','WINTER','SPRING']\n",
    "\n",
    "Season_climatology_0 = {}\n",
    "Season_climatology_30 = {}\n",
    "for s,sn in zip(Season,Season_names):\n",
    "    Season_climatology_0[sn] = Depth_0.sel(time = np.in1d(Depth_0['time.month'], s)).mean('time')\n",
    "    Season_climatology_30[sn] = Depth_30.sel(time = np.in1d(Depth_30['time.month'], s)).mean('time')\n",
    "\n",
    "S_Cs = [Season_climatology_0,Season_climatology_30]"
   ]
  },
  {
   "cell_type": "code",
   "execution_count": 21,
   "metadata": {},
   "outputs": [
    {
     "name": "stdout",
     "output_type": "stream",
     "text": [
      "Processing: SUMMER\n",
      "Done: SUMMER\n",
      "Processing: AUTUMN\n",
      "Done: AUTUMN\n",
      "Processing: WINTER\n",
      "Done: WINTER\n",
      "Processing: SPRING\n",
      "Done: SPRING\n",
      "Picture: Saved\n",
      "\n",
      "Starting Next Depth\n",
      "\n",
      "Processing: SUMMER\n",
      "Done: SUMMER\n",
      "Processing: AUTUMN\n",
      "Done: AUTUMN\n",
      "Processing: WINTER\n",
      "Done: WINTER\n",
      "Processing: SPRING\n",
      "Done: SPRING\n",
      "Picture: Saved\n",
      "\n",
      "Done\n"
     ]
    }
   ],
   "source": [
    "Versao = 0\n",
    "\n",
    "## IMPORTANTE FIXAR VALORES PARA OS MINIMOS E MAXIMOS ##\n",
    "Tmin = [-1,-1]\n",
    "Tmax = [1,1]\n",
    "Smin = 0\n",
    "Smax = .2\n",
    "ArrowC = sns.color_palette(\"coolwarm\")\n",
    "step = 5\n",
    "depths= [0,30]\n",
    "\n",
    "\n",
    "for i,d in enumerate(depths):\n",
    "\n",
    "    fig = plt.figure(figsize=(3.4,6.4),dpi=300)\n",
    "    fig.subplots_adjust(left=0.1, bottom=0.1, right=0.85, top=0.8, wspace=0.05, hspace=0.05)\n",
    "    fig.suptitle('Climatology\\nDepth = '+str(round(float(S_Cs[i]['SUMMER']['depth'].values),2))+'m', fontsize=12, y=0.85)\n",
    "    fig.patch.set_facecolor('white')\n",
    "\n",
    "    for n,s in enumerate(Season):\n",
    "        if n > 0:\n",
    "            print('Done: '+ Season_names[n-1])\n",
    "\n",
    "        print('Processing: ' + Season_names[n])\n",
    "\n",
    "        cS = S_Cs[i][Season_names[n]]\n",
    "        del cS['depth']\n",
    "        uE = cS['uo']\n",
    "        vN = cS['vo']\n",
    "\n",
    "        ax = plt.subplot(2, 2, n+1, projection=proj)\n",
    "        ax.set_extent(extent)\n",
    "        ax.text(0.9, 0.02, Season_names[n], fontweight='bold', fontsize=10, transform=ax.transAxes, ha=\"right\",)\n",
    "\n",
    "        gl = ax.gridlines(crs=proj, draw_labels=True,\n",
    "                          linewidth=1, color='gray', alpha=0.5, linestyle='--')\n",
    "        gl.xlocator = mticker.FixedLocator(np.arange(-34,-39.5,-2))\n",
    "        gl.ylocator = mticker.FixedLocator(np.arange(-5,-14.5,-2.5)) \n",
    "        gl.xlabels_top = False\n",
    "        gl.ylabels_right = False\n",
    "        gl.xformatter = LONGITUDE_FORMATTER\n",
    "        gl.yformatter = LATITUDE_FORMATTER\n",
    "        plt.rcParams.update({'font.size': 8})\n",
    "\n",
    "        if n != 0 and n != 2:\n",
    "            gl.ylabels_left = False\n",
    "\n",
    "        if n < 2:\n",
    "            gl.xlabels_bottom = False\n",
    "\n",
    "        shape_feature = ShapelyFeature(Reader(shp).geometries(),\n",
    "                                        ccrs.PlateCarree(), edgecolor='gray',linewidth=.5)\n",
    "        ax.add_feature(shape_feature,facecolor='oldlace')\n",
    "\n",
    "        im = cS['speed'].plot.contourf(ax=ax, transform=proj, vmin=Smin, vmax=Smax, add_colorbar=False, alpha=0.5)\n",
    "        lon, lat = np.meshgrid(cS['longitude'],cS['latitude'])\n",
    "        ax.quiver(lon[::step,::step],lat[::step,::step],cS['uo'][::step,::step],cS['vo'][::step,::step],\n",
    "                    pivot='middle',scale=2,width=.008,headwidth=2,headlength=2)#,scale=0.55,headwidth=2,headlength=2,)#,color=ArrowC)\n",
    "\n",
    "\n",
    "    print('Done: '+ Season_names[n])   \n",
    "\n",
    "    cbar_ax = fig.add_axes([0.90, 0.115, 0.02, 0.67])\n",
    "    cbar = fig.colorbar(im, cax=cbar_ax, orientation=\"vertical\")\n",
    "    cbar.set_label(label='Speed (m/s)', size=8)\n",
    "    cbar.ax.tick_params(labelsize=8)\n",
    "\n",
    "    plt.savefig('D:/00_Masters/03_Figuras_Finais/Climatologia/Ocean_Curr/Figuras/Curr-Clim_Sazonal_d'+str(d)+'_v'+ str(Versao) + '.png',\n",
    "                bbox_inches='tight')\n",
    "\n",
    "    print('Picture: Saved')\n",
    "    plt.close()\n",
    "    if i < np.size(depths)-1:\n",
    "        print('\\nStarting Next Depth\\n')\n",
    "    else:\n",
    "        print('\\nDone')\n",
    "    # plt.show()"
   ]
  }
 ],
 "metadata": {
  "kernelspec": {
   "display_name": "Python 3.9.7 ('base')",
   "language": "python",
   "name": "python3"
  },
  "language_info": {
   "codemirror_mode": {
    "name": "ipython",
    "version": 3
   },
   "file_extension": ".py",
   "mimetype": "text/x-python",
   "name": "python",
   "nbconvert_exporter": "python",
   "pygments_lexer": "ipython3",
   "version": "3.9.7"
  },
  "orig_nbformat": 4,
  "vscode": {
   "interpreter": {
    "hash": "ad2bdc8ecc057115af97d19610ffacc2b4e99fae6737bb82f5d7fb13d2f2c186"
   }
  }
 },
 "nbformat": 4,
 "nbformat_minor": 2
}

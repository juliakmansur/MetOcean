{
 "cells": [
  {
   "cell_type": "markdown",
   "metadata": {},
   "source": [
    "# Mercator - Isopycnais"
   ]
  },
  {
   "cell_type": "markdown",
   "metadata": {},
   "source": [
    "#### Packages"
   ]
  },
  {
   "cell_type": "code",
   "execution_count": 1,
   "metadata": {},
   "outputs": [],
   "source": [
    "import xarray as xr\n",
    "import numpy  as np\n",
    "\n",
    "import glob\n",
    "import os\n",
    "\n",
    "import warnings\n",
    "warnings.filterwarnings(\"ignore\")"
   ]
  },
  {
   "cell_type": "markdown",
   "metadata": {},
   "source": [
    "#### Importing Dataset"
   ]
  },
  {
   "cell_type": "code",
   "execution_count": 2,
   "metadata": {},
   "outputs": [],
   "source": [
    "filenames = glob.glob(\"d:/00_Masters/01_Dados/Mercator/*.nc\")\n",
    "ds = xr.open_mfdataset(filenames)\n",
    "_, index = np.unique(ds['time'], return_index=True)\n",
    "ds = ds.isel(time=index)"
   ]
  },
  {
   "cell_type": "markdown",
   "metadata": {},
   "source": [
    "#### Calculating Isoterm of 23.3°C Depths"
   ]
  },
  {
   "cell_type": "markdown",
   "metadata": {},
   "source": [
    "    Profundidade mínima da ACAS \n",
    "        Limite ACAS-TEMP"
   ]
  },
  {
   "cell_type": "code",
   "execution_count": 3,
   "metadata": {},
   "outputs": [],
   "source": [
    "depth = ds['depth'].to_dataframe()\n",
    "depth.reset_index(drop=True,inplace=True,)\n",
    "ds['thetao'] = ds['thetao'].fillna(-999999) # mask nan / Land"
   ]
  },
  {
   "cell_type": "markdown",
   "metadata": {},
   "source": [
    "#### Min. Depth"
   ]
  },
  {
   "cell_type": "code",
   "execution_count": 19,
   "metadata": {},
   "outputs": [],
   "source": [
    "TEMP = ds.map(lambda p: ds.thetao <= 23.3) # Return array with boolean % similiar to where\n",
    "temp = TEMP.thetao.values\n",
    "\n",
    "isoterm = np.zeros((TEMP.time.size,TEMP.latitude.size,TEMP.longitude.size)) \n",
    " # loop through time indices\n",
    "for ti in np.arange(0,TEMP.time.size,1):\n",
    "    # loop through lat,lon indices\n",
    "    for yi in np.arange(0,TEMP.latitude.size,1):        \n",
    "        for xi in np.arange(0,TEMP.longitude.size,1):\n",
    "            # Condition for TEMP\n",
    "            iso_depth = []\n",
    "            for i in np.arange(29):\n",
    "                if (i < 28) and ((temp[ti][i][yi][xi] == True) and (temp[ti][i+1][yi][xi] == False)):\n",
    "                    iso_depth = depth.loc[i]\n",
    "                    break\n",
    "                else:\n",
    "                    iso_depth = np.nan          \n",
    "            \n",
    "\n",
    "            isoterm[ti,yi,xi] = iso_depth"
   ]
  },
  {
   "cell_type": "code",
   "execution_count": 30,
   "metadata": {},
   "outputs": [],
   "source": [
    "ds['IsoTerm_23_depth'] = (['time','latitude','longitude'],isoterm)\n",
    "ds['IsoTerm_23_depth'].attrs[\"units\"] = \"m\"\n",
    "ds['IsoTerm_23_depth'].attrs[\"unit_long\"] = \"meters\"\n",
    "ds['IsoTerm_23_depth'].attrs[\"long_name\"] = \"Isoterm Depth\"\n",
    "ds['IsoTerm_23_depth'].attrs[\"standard_name\"] = \"Isoterm_depth\""
   ]
  },
  {
   "cell_type": "markdown",
   "metadata": {},
   "source": [
    "#### Exporting TW_Depth as NC"
   ]
  },
  {
   "cell_type": "code",
   "execution_count": 33,
   "metadata": {},
   "outputs": [],
   "source": [
    "ds['IsoTerm_23_depth'].to_netcdf('D:/00_Masters/01_Dados/IsoTerm_23_depth.nc')"
   ]
  },
  {
   "cell_type": "markdown",
   "metadata": {},
   "source": [
    "-----"
   ]
  },
  {
   "cell_type": "markdown",
   "metadata": {},
   "source": [
    "#### Max. Depth"
   ]
  },
  {
   "cell_type": "code",
   "execution_count": 5,
   "metadata": {},
   "outputs": [],
   "source": [
    "TEMP = ds.map(lambda p: ds.thetao > 23.3) # Return array with boolean % similiar to where\n",
    "temp = TEMP.thetao.values\n",
    "\n",
    "isoterm = np.zeros((TEMP.time.size,TEMP.latitude.size,TEMP.longitude.size)) \n",
    " # loop through time indices\n",
    "for ti in np.arange(0,TEMP.time.size,1):\n",
    "    # loop through lat,lon indices\n",
    "    for yi in np.arange(0,TEMP.latitude.size,1):        \n",
    "        for xi in np.arange(0,TEMP.longitude.size,1):\n",
    "            # Condition for TEMP\n",
    "            iso_depth = []\n",
    "            for i in np.arange(1,29):\n",
    "                if (i < 28) and ((temp[ti][i-1][yi][xi] == False) and (temp[ti][i][yi][xi] == True)):\n",
    "                    iso_depth = depth.loc[i]\n",
    "                    break\n",
    "                else:\n",
    "                    iso_depth = np.nan          \n",
    "            \n",
    "\n",
    "            isoterm[ti,yi,xi] = iso_depth"
   ]
  },
  {
   "cell_type": "code",
   "execution_count": 6,
   "metadata": {},
   "outputs": [],
   "source": [
    "ds['IsoTerm_23mais_depth'] = (['time','latitude','longitude'],isoterm)\n",
    "ds['IsoTerm_23mais_depth'].attrs[\"units\"] = \"m\"\n",
    "ds['IsoTerm_23mais_depth'].attrs[\"unit_long\"] = \"meters\"\n",
    "ds['IsoTerm_23mais_depth'].attrs[\"long_name\"] = \"Isoterm Depth\"\n",
    "ds['IsoTerm_23mais_depth'].attrs[\"standard_name\"] = \"Isoterm_depth\""
   ]
  },
  {
   "cell_type": "code",
   "execution_count": 8,
   "metadata": {},
   "outputs": [],
   "source": [
    "ds['IsoTerm_23mais_depth'].to_netcdf('D:/00_Masters/01_Dados/IsoTerm_23mais_depth.nc')"
   ]
  },
  {
   "cell_type": "markdown",
   "metadata": {},
   "source": [
    "-----"
   ]
  }
 ],
 "metadata": {
  "kernelspec": {
   "display_name": "Python 3.9.7 ('base')",
   "language": "python",
   "name": "python3"
  },
  "language_info": {
   "codemirror_mode": {
    "name": "ipython",
    "version": 3
   },
   "file_extension": ".py",
   "mimetype": "text/x-python",
   "name": "python",
   "nbconvert_exporter": "python",
   "pygments_lexer": "ipython3",
   "version": "3.9.13"
  },
  "orig_nbformat": 4,
  "vscode": {
   "interpreter": {
    "hash": "ad2bdc8ecc057115af97d19610ffacc2b4e99fae6737bb82f5d7fb13d2f2c186"
   }
  }
 },
 "nbformat": 4,
 "nbformat_minor": 2
}

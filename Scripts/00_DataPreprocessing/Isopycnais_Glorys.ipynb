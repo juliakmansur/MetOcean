{
 "cells": [
  {
   "cell_type": "markdown",
   "metadata": {},
   "source": [
    "# Mercator - Isopycnais"
   ]
  },
  {
   "cell_type": "markdown",
   "metadata": {},
   "source": [
    "#### Packages"
   ]
  },
  {
   "cell_type": "code",
   "execution_count": 2,
   "metadata": {},
   "outputs": [],
   "source": [
    "import xarray as xr\n",
    "import numpy  as np\n",
    "\n",
    "from gsw import p_from_z\n",
    "from gsw import pot_rho_t_exact as prho\n",
    "\n",
    "import glob\n",
    "import os\n",
    "\n",
    "import warnings\n",
    "warnings.filterwarnings(\"ignore\")"
   ]
  },
  {
   "cell_type": "markdown",
   "metadata": {},
   "source": [
    "#### Importing Dataset"
   ]
  },
  {
   "cell_type": "code",
   "execution_count": 3,
   "metadata": {},
   "outputs": [],
   "source": [
    "filenames = glob.glob(\"d:/00_Masters/01_Dados/Mercator/*.nc\")\n",
    "ds = xr.open_mfdataset(filenames)\n",
    "_, index = np.unique(ds['time'], return_index=True)\n",
    "ds = ds.isel(time=index)"
   ]
  },
  {
   "cell_type": "markdown",
   "metadata": {},
   "source": [
    "#### Calculating Pressure and Potential Density"
   ]
  },
  {
   "cell_type": "code",
   "execution_count": 4,
   "metadata": {},
   "outputs": [],
   "source": [
    "ds = ds.assign(pressure=lambda dsmerged: p_from_z(-dsmerged['depth'],dsmerged['latitude'],sea_surface_geopotential=dsmerged['zos']))\n",
    "ds = ds.transpose('time','depth','latitude','longitude')\n",
    "ds['pressure'].attrs[\"units\"] = \"dbar\"\n",
    "ds['pressure'].attrs[\"unit_long\"] = \"Decibar\"\n",
    "ds['pressure'].attrs[\"long_name\"] = \"Pressure\"\n",
    "ds['pressure'].attrs[\"standard_name\"] = \"pressure\"\n",
    "\n",
    "ds = ds.assign(pot_rho=lambda ds: prho(ds['so'],ds['thetao'],ds['pressure'],0))\n",
    "ds['pot_rho'].attrs[\"units\"] = \"kg/m^3\"\n",
    "ds['pot_rho'].attrs[\"unit_long\"] = \"Kilograms per Cubic Meter\"\n",
    "ds['pot_rho'].attrs[\"long_name\"] = \"Potential Density\"\n",
    "ds['pot_rho'].attrs[\"standard_name\"] = \"potential_density\""
   ]
  },
  {
   "cell_type": "markdown",
   "metadata": {},
   "source": [
    "#### Calculating TW Depths"
   ]
  },
  {
   "cell_type": "markdown",
   "metadata": {},
   "source": [
    "    Profundidade mínima da ACAS \n",
    "        Limite ACAS-TW"
   ]
  },
  {
   "cell_type": "code",
   "execution_count": 5,
   "metadata": {},
   "outputs": [],
   "source": [
    "depth = ds['depth'].to_dataframe()\n",
    "depth.reset_index(drop=True,inplace=True,)\n",
    "ds['pot_rho'] = ds.pot_rho.fillna(-999999) # mask nan for TW Depth"
   ]
  },
  {
   "cell_type": "code",
   "execution_count": 6,
   "metadata": {},
   "outputs": [],
   "source": [
    "TW = ds.map(lambda p: ds.pot_rho <= 1025.7) # Return array with boolean % similiar to where\n",
    "tw = TW.pot_rho.values\n",
    "\n",
    "isopycnal = np.zeros((TW.time.size,TW.latitude.size,TW.longitude.size)) \n",
    " # loop through time indices\n",
    "for ti in np.arange(0,TW.time.size,1):\n",
    "    # loop through lat,lon indices\n",
    "    for yi in np.arange(0,TW.latitude.size,1):        \n",
    "        for xi in np.arange(0,TW.longitude.size,1):\n",
    "            # Condition for TW\n",
    "            iso_depth = []\n",
    "            for i in np.arange(29):\n",
    "                if (i < 28) and ((tw[ti][i][yi][xi] == True) and (tw[ti][i+1][yi][xi] == False)):\n",
    "                    iso_depth = depth.loc[i]\n",
    "                    break\n",
    "                else:\n",
    "                    iso_depth = np.nan          \n",
    "            \n",
    "\n",
    "            isopycnal[ti,yi,xi] = iso_depth"
   ]
  },
  {
   "cell_type": "code",
   "execution_count": 7,
   "metadata": {},
   "outputs": [],
   "source": [
    "ds['TW_depth'] = (['time','latitude','longitude'],isopycnal)\n",
    "ds['TW_depth'].attrs[\"units\"] = \"m\"\n",
    "ds['TW_depth'].attrs[\"unit_long\"] = \"meters\"\n",
    "ds['TW_depth'].attrs[\"long_name\"] = \"Isopycnal Depth\"\n",
    "ds['TW_depth'].attrs[\"standard_name\"] = \"isopycnal_depth\""
   ]
  },
  {
   "cell_type": "markdown",
   "metadata": {},
   "source": [
    "#### Exporting TW_Depth as NC"
   ]
  },
  {
   "cell_type": "code",
   "execution_count": 9,
   "metadata": {},
   "outputs": [],
   "source": [
    "ds['TW_depth'].to_netcdf('D:/00_Masters/01_Dados/TW_depth.nc')"
   ]
  },
  {
   "cell_type": "markdown",
   "metadata": {},
   "source": [
    "-----"
   ]
  },
  {
   "cell_type": "markdown",
   "metadata": {},
   "source": [
    "######## Exporting mask to find stations"
   ]
  },
  {
   "cell_type": "code",
   "execution_count": null,
   "metadata": {},
   "outputs": [],
   "source": [
    "vv = month_climatology.to_dataframe() \n",
    "mask = vv['TW_depth'] < 100\n",
    "idx = pd.IndexSlice\n",
    "vv[mask].to_csv('D:/00_Masters/01_Dados/TW_Depths_INTEREST.csv',sep=',')"
   ]
  }
 ],
 "metadata": {
  "kernelspec": {
   "display_name": "Python 3.9.7 ('base')",
   "language": "python",
   "name": "python3"
  },
  "language_info": {
   "codemirror_mode": {
    "name": "ipython",
    "version": 3
   },
   "file_extension": ".py",
   "mimetype": "text/x-python",
   "name": "python",
   "nbconvert_exporter": "python",
   "pygments_lexer": "ipython3",
   "version": "3.9.13"
  },
  "orig_nbformat": 4,
  "vscode": {
   "interpreter": {
    "hash": "ad2bdc8ecc057115af97d19610ffacc2b4e99fae6737bb82f5d7fb13d2f2c186"
   }
  }
 },
 "nbformat": 4,
 "nbformat_minor": 2
}
